{
  "nbformat": 4,
  "nbformat_minor": 0,
  "metadata": {
    "colab": {
      "provenance": [],
      "gpuType": "T4",
      "mount_file_id": "16J5Ij5dMEWqrneTkxx6iIS9GJsLZ6PaM",
      "authorship_tag": "ABX9TyM4wYKRhIwjgG2Bu5hw7MIe"
    },
    "kernelspec": {
      "name": "python3",
      "display_name": "Python 3"
    },
    "language_info": {
      "name": "python"
    },
    "accelerator": "GPU",
    "gpuClass": "standard",
    "widgets": {
      "application/vnd.jupyter.widget-state+json": {
        "133cd2a4574a42f887f9b8bc1bc5ae0f": {
          "model_module": "@jupyter-widgets/controls",
          "model_name": "HBoxModel",
          "model_module_version": "1.5.0",
          "state": {
            "_dom_classes": [],
            "_model_module": "@jupyter-widgets/controls",
            "_model_module_version": "1.5.0",
            "_model_name": "HBoxModel",
            "_view_count": null,
            "_view_module": "@jupyter-widgets/controls",
            "_view_module_version": "1.5.0",
            "_view_name": "HBoxView",
            "box_style": "",
            "children": [
              "IPY_MODEL_7b4868b7f57e48658913ba38f7e3a349",
              "IPY_MODEL_44556e96cd2d481382bbcee554ffd221",
              "IPY_MODEL_cdd551c2bea34df0aedcf50c7e0ccb7b"
            ],
            "layout": "IPY_MODEL_a26dd675960f4888a03ae641da9370a3"
          }
        },
        "7b4868b7f57e48658913ba38f7e3a349": {
          "model_module": "@jupyter-widgets/controls",
          "model_name": "HTMLModel",
          "model_module_version": "1.5.0",
          "state": {
            "_dom_classes": [],
            "_model_module": "@jupyter-widgets/controls",
            "_model_module_version": "1.5.0",
            "_model_name": "HTMLModel",
            "_view_count": null,
            "_view_module": "@jupyter-widgets/controls",
            "_view_module_version": "1.5.0",
            "_view_name": "HTMLView",
            "description": "",
            "description_tooltip": null,
            "layout": "IPY_MODEL_961fffb40090489f80396b9c3fe1a5f0",
            "placeholder": "​",
            "style": "IPY_MODEL_343c818df19b403fa940066ce8b4916e",
            "value": "Downloading (…)solve/main/vocab.txt: 100%"
          }
        },
        "44556e96cd2d481382bbcee554ffd221": {
          "model_module": "@jupyter-widgets/controls",
          "model_name": "FloatProgressModel",
          "model_module_version": "1.5.0",
          "state": {
            "_dom_classes": [],
            "_model_module": "@jupyter-widgets/controls",
            "_model_module_version": "1.5.0",
            "_model_name": "FloatProgressModel",
            "_view_count": null,
            "_view_module": "@jupyter-widgets/controls",
            "_view_module_version": "1.5.0",
            "_view_name": "ProgressView",
            "bar_style": "success",
            "description": "",
            "description_tooltip": null,
            "layout": "IPY_MODEL_095c912c82ac4a98b315cb86195b76c8",
            "max": 995526,
            "min": 0,
            "orientation": "horizontal",
            "style": "IPY_MODEL_48994051f8cd43a3a6ecf0325192b05d",
            "value": 995526
          }
        },
        "cdd551c2bea34df0aedcf50c7e0ccb7b": {
          "model_module": "@jupyter-widgets/controls",
          "model_name": "HTMLModel",
          "model_module_version": "1.5.0",
          "state": {
            "_dom_classes": [],
            "_model_module": "@jupyter-widgets/controls",
            "_model_module_version": "1.5.0",
            "_model_name": "HTMLModel",
            "_view_count": null,
            "_view_module": "@jupyter-widgets/controls",
            "_view_module_version": "1.5.0",
            "_view_name": "HTMLView",
            "description": "",
            "description_tooltip": null,
            "layout": "IPY_MODEL_80bdfbd34acb4d6b8d4ec7a15fd9e790",
            "placeholder": "​",
            "style": "IPY_MODEL_bde0d878f5d34283a89c31c75f0c8f9e",
            "value": " 996k/996k [00:00&lt;00:00, 10.2MB/s]"
          }
        },
        "a26dd675960f4888a03ae641da9370a3": {
          "model_module": "@jupyter-widgets/base",
          "model_name": "LayoutModel",
          "model_module_version": "1.2.0",
          "state": {
            "_model_module": "@jupyter-widgets/base",
            "_model_module_version": "1.2.0",
            "_model_name": "LayoutModel",
            "_view_count": null,
            "_view_module": "@jupyter-widgets/base",
            "_view_module_version": "1.2.0",
            "_view_name": "LayoutView",
            "align_content": null,
            "align_items": null,
            "align_self": null,
            "border": null,
            "bottom": null,
            "display": null,
            "flex": null,
            "flex_flow": null,
            "grid_area": null,
            "grid_auto_columns": null,
            "grid_auto_flow": null,
            "grid_auto_rows": null,
            "grid_column": null,
            "grid_gap": null,
            "grid_row": null,
            "grid_template_areas": null,
            "grid_template_columns": null,
            "grid_template_rows": null,
            "height": null,
            "justify_content": null,
            "justify_items": null,
            "left": null,
            "margin": null,
            "max_height": null,
            "max_width": null,
            "min_height": null,
            "min_width": null,
            "object_fit": null,
            "object_position": null,
            "order": null,
            "overflow": null,
            "overflow_x": null,
            "overflow_y": null,
            "padding": null,
            "right": null,
            "top": null,
            "visibility": null,
            "width": null
          }
        },
        "961fffb40090489f80396b9c3fe1a5f0": {
          "model_module": "@jupyter-widgets/base",
          "model_name": "LayoutModel",
          "model_module_version": "1.2.0",
          "state": {
            "_model_module": "@jupyter-widgets/base",
            "_model_module_version": "1.2.0",
            "_model_name": "LayoutModel",
            "_view_count": null,
            "_view_module": "@jupyter-widgets/base",
            "_view_module_version": "1.2.0",
            "_view_name": "LayoutView",
            "align_content": null,
            "align_items": null,
            "align_self": null,
            "border": null,
            "bottom": null,
            "display": null,
            "flex": null,
            "flex_flow": null,
            "grid_area": null,
            "grid_auto_columns": null,
            "grid_auto_flow": null,
            "grid_auto_rows": null,
            "grid_column": null,
            "grid_gap": null,
            "grid_row": null,
            "grid_template_areas": null,
            "grid_template_columns": null,
            "grid_template_rows": null,
            "height": null,
            "justify_content": null,
            "justify_items": null,
            "left": null,
            "margin": null,
            "max_height": null,
            "max_width": null,
            "min_height": null,
            "min_width": null,
            "object_fit": null,
            "object_position": null,
            "order": null,
            "overflow": null,
            "overflow_x": null,
            "overflow_y": null,
            "padding": null,
            "right": null,
            "top": null,
            "visibility": null,
            "width": null
          }
        },
        "343c818df19b403fa940066ce8b4916e": {
          "model_module": "@jupyter-widgets/controls",
          "model_name": "DescriptionStyleModel",
          "model_module_version": "1.5.0",
          "state": {
            "_model_module": "@jupyter-widgets/controls",
            "_model_module_version": "1.5.0",
            "_model_name": "DescriptionStyleModel",
            "_view_count": null,
            "_view_module": "@jupyter-widgets/base",
            "_view_module_version": "1.2.0",
            "_view_name": "StyleView",
            "description_width": ""
          }
        },
        "095c912c82ac4a98b315cb86195b76c8": {
          "model_module": "@jupyter-widgets/base",
          "model_name": "LayoutModel",
          "model_module_version": "1.2.0",
          "state": {
            "_model_module": "@jupyter-widgets/base",
            "_model_module_version": "1.2.0",
            "_model_name": "LayoutModel",
            "_view_count": null,
            "_view_module": "@jupyter-widgets/base",
            "_view_module_version": "1.2.0",
            "_view_name": "LayoutView",
            "align_content": null,
            "align_items": null,
            "align_self": null,
            "border": null,
            "bottom": null,
            "display": null,
            "flex": null,
            "flex_flow": null,
            "grid_area": null,
            "grid_auto_columns": null,
            "grid_auto_flow": null,
            "grid_auto_rows": null,
            "grid_column": null,
            "grid_gap": null,
            "grid_row": null,
            "grid_template_areas": null,
            "grid_template_columns": null,
            "grid_template_rows": null,
            "height": null,
            "justify_content": null,
            "justify_items": null,
            "left": null,
            "margin": null,
            "max_height": null,
            "max_width": null,
            "min_height": null,
            "min_width": null,
            "object_fit": null,
            "object_position": null,
            "order": null,
            "overflow": null,
            "overflow_x": null,
            "overflow_y": null,
            "padding": null,
            "right": null,
            "top": null,
            "visibility": null,
            "width": null
          }
        },
        "48994051f8cd43a3a6ecf0325192b05d": {
          "model_module": "@jupyter-widgets/controls",
          "model_name": "ProgressStyleModel",
          "model_module_version": "1.5.0",
          "state": {
            "_model_module": "@jupyter-widgets/controls",
            "_model_module_version": "1.5.0",
            "_model_name": "ProgressStyleModel",
            "_view_count": null,
            "_view_module": "@jupyter-widgets/base",
            "_view_module_version": "1.2.0",
            "_view_name": "StyleView",
            "bar_color": null,
            "description_width": ""
          }
        },
        "80bdfbd34acb4d6b8d4ec7a15fd9e790": {
          "model_module": "@jupyter-widgets/base",
          "model_name": "LayoutModel",
          "model_module_version": "1.2.0",
          "state": {
            "_model_module": "@jupyter-widgets/base",
            "_model_module_version": "1.2.0",
            "_model_name": "LayoutModel",
            "_view_count": null,
            "_view_module": "@jupyter-widgets/base",
            "_view_module_version": "1.2.0",
            "_view_name": "LayoutView",
            "align_content": null,
            "align_items": null,
            "align_self": null,
            "border": null,
            "bottom": null,
            "display": null,
            "flex": null,
            "flex_flow": null,
            "grid_area": null,
            "grid_auto_columns": null,
            "grid_auto_flow": null,
            "grid_auto_rows": null,
            "grid_column": null,
            "grid_gap": null,
            "grid_row": null,
            "grid_template_areas": null,
            "grid_template_columns": null,
            "grid_template_rows": null,
            "height": null,
            "justify_content": null,
            "justify_items": null,
            "left": null,
            "margin": null,
            "max_height": null,
            "max_width": null,
            "min_height": null,
            "min_width": null,
            "object_fit": null,
            "object_position": null,
            "order": null,
            "overflow": null,
            "overflow_x": null,
            "overflow_y": null,
            "padding": null,
            "right": null,
            "top": null,
            "visibility": null,
            "width": null
          }
        },
        "bde0d878f5d34283a89c31c75f0c8f9e": {
          "model_module": "@jupyter-widgets/controls",
          "model_name": "DescriptionStyleModel",
          "model_module_version": "1.5.0",
          "state": {
            "_model_module": "@jupyter-widgets/controls",
            "_model_module_version": "1.5.0",
            "_model_name": "DescriptionStyleModel",
            "_view_count": null,
            "_view_module": "@jupyter-widgets/base",
            "_view_module_version": "1.2.0",
            "_view_name": "StyleView",
            "description_width": ""
          }
        },
        "c607e8c0b72a43cdb192ae3653e73888": {
          "model_module": "@jupyter-widgets/controls",
          "model_name": "HBoxModel",
          "model_module_version": "1.5.0",
          "state": {
            "_dom_classes": [],
            "_model_module": "@jupyter-widgets/controls",
            "_model_module_version": "1.5.0",
            "_model_name": "HBoxModel",
            "_view_count": null,
            "_view_module": "@jupyter-widgets/controls",
            "_view_module_version": "1.5.0",
            "_view_name": "HBoxView",
            "box_style": "",
            "children": [
              "IPY_MODEL_2beff727cdc44367930ee78b5da6fef3",
              "IPY_MODEL_e7e7fd59beba4eae93812cfc2e7d8c3f",
              "IPY_MODEL_1861bb327dd24b19b63739c90c0662c5"
            ],
            "layout": "IPY_MODEL_f77606aa633443768d2869382afdb29f"
          }
        },
        "2beff727cdc44367930ee78b5da6fef3": {
          "model_module": "@jupyter-widgets/controls",
          "model_name": "HTMLModel",
          "model_module_version": "1.5.0",
          "state": {
            "_dom_classes": [],
            "_model_module": "@jupyter-widgets/controls",
            "_model_module_version": "1.5.0",
            "_model_name": "HTMLModel",
            "_view_count": null,
            "_view_module": "@jupyter-widgets/controls",
            "_view_module_version": "1.5.0",
            "_view_name": "HTMLView",
            "description": "",
            "description_tooltip": null,
            "layout": "IPY_MODEL_1423b85173964c5288e6e576e0d242a6",
            "placeholder": "​",
            "style": "IPY_MODEL_adbeade60a4841869d00edf07e83f91e",
            "value": "Downloading (…)okenizer_config.json: 100%"
          }
        },
        "e7e7fd59beba4eae93812cfc2e7d8c3f": {
          "model_module": "@jupyter-widgets/controls",
          "model_name": "FloatProgressModel",
          "model_module_version": "1.5.0",
          "state": {
            "_dom_classes": [],
            "_model_module": "@jupyter-widgets/controls",
            "_model_module_version": "1.5.0",
            "_model_name": "FloatProgressModel",
            "_view_count": null,
            "_view_module": "@jupyter-widgets/controls",
            "_view_module_version": "1.5.0",
            "_view_name": "ProgressView",
            "bar_style": "success",
            "description": "",
            "description_tooltip": null,
            "layout": "IPY_MODEL_cedbe136348b4b26873a6b7854dacbc4",
            "max": 29,
            "min": 0,
            "orientation": "horizontal",
            "style": "IPY_MODEL_1247f91281d14622abdb4785329ddc75",
            "value": 29
          }
        },
        "1861bb327dd24b19b63739c90c0662c5": {
          "model_module": "@jupyter-widgets/controls",
          "model_name": "HTMLModel",
          "model_module_version": "1.5.0",
          "state": {
            "_dom_classes": [],
            "_model_module": "@jupyter-widgets/controls",
            "_model_module_version": "1.5.0",
            "_model_name": "HTMLModel",
            "_view_count": null,
            "_view_module": "@jupyter-widgets/controls",
            "_view_module_version": "1.5.0",
            "_view_name": "HTMLView",
            "description": "",
            "description_tooltip": null,
            "layout": "IPY_MODEL_e8a5fa1576f04302ad2f1b371cbda574",
            "placeholder": "​",
            "style": "IPY_MODEL_8043b22db71548789abed0fdb94293ad",
            "value": " 29.0/29.0 [00:00&lt;00:00, 1.52kB/s]"
          }
        },
        "f77606aa633443768d2869382afdb29f": {
          "model_module": "@jupyter-widgets/base",
          "model_name": "LayoutModel",
          "model_module_version": "1.2.0",
          "state": {
            "_model_module": "@jupyter-widgets/base",
            "_model_module_version": "1.2.0",
            "_model_name": "LayoutModel",
            "_view_count": null,
            "_view_module": "@jupyter-widgets/base",
            "_view_module_version": "1.2.0",
            "_view_name": "LayoutView",
            "align_content": null,
            "align_items": null,
            "align_self": null,
            "border": null,
            "bottom": null,
            "display": null,
            "flex": null,
            "flex_flow": null,
            "grid_area": null,
            "grid_auto_columns": null,
            "grid_auto_flow": null,
            "grid_auto_rows": null,
            "grid_column": null,
            "grid_gap": null,
            "grid_row": null,
            "grid_template_areas": null,
            "grid_template_columns": null,
            "grid_template_rows": null,
            "height": null,
            "justify_content": null,
            "justify_items": null,
            "left": null,
            "margin": null,
            "max_height": null,
            "max_width": null,
            "min_height": null,
            "min_width": null,
            "object_fit": null,
            "object_position": null,
            "order": null,
            "overflow": null,
            "overflow_x": null,
            "overflow_y": null,
            "padding": null,
            "right": null,
            "top": null,
            "visibility": null,
            "width": null
          }
        },
        "1423b85173964c5288e6e576e0d242a6": {
          "model_module": "@jupyter-widgets/base",
          "model_name": "LayoutModel",
          "model_module_version": "1.2.0",
          "state": {
            "_model_module": "@jupyter-widgets/base",
            "_model_module_version": "1.2.0",
            "_model_name": "LayoutModel",
            "_view_count": null,
            "_view_module": "@jupyter-widgets/base",
            "_view_module_version": "1.2.0",
            "_view_name": "LayoutView",
            "align_content": null,
            "align_items": null,
            "align_self": null,
            "border": null,
            "bottom": null,
            "display": null,
            "flex": null,
            "flex_flow": null,
            "grid_area": null,
            "grid_auto_columns": null,
            "grid_auto_flow": null,
            "grid_auto_rows": null,
            "grid_column": null,
            "grid_gap": null,
            "grid_row": null,
            "grid_template_areas": null,
            "grid_template_columns": null,
            "grid_template_rows": null,
            "height": null,
            "justify_content": null,
            "justify_items": null,
            "left": null,
            "margin": null,
            "max_height": null,
            "max_width": null,
            "min_height": null,
            "min_width": null,
            "object_fit": null,
            "object_position": null,
            "order": null,
            "overflow": null,
            "overflow_x": null,
            "overflow_y": null,
            "padding": null,
            "right": null,
            "top": null,
            "visibility": null,
            "width": null
          }
        },
        "adbeade60a4841869d00edf07e83f91e": {
          "model_module": "@jupyter-widgets/controls",
          "model_name": "DescriptionStyleModel",
          "model_module_version": "1.5.0",
          "state": {
            "_model_module": "@jupyter-widgets/controls",
            "_model_module_version": "1.5.0",
            "_model_name": "DescriptionStyleModel",
            "_view_count": null,
            "_view_module": "@jupyter-widgets/base",
            "_view_module_version": "1.2.0",
            "_view_name": "StyleView",
            "description_width": ""
          }
        },
        "cedbe136348b4b26873a6b7854dacbc4": {
          "model_module": "@jupyter-widgets/base",
          "model_name": "LayoutModel",
          "model_module_version": "1.2.0",
          "state": {
            "_model_module": "@jupyter-widgets/base",
            "_model_module_version": "1.2.0",
            "_model_name": "LayoutModel",
            "_view_count": null,
            "_view_module": "@jupyter-widgets/base",
            "_view_module_version": "1.2.0",
            "_view_name": "LayoutView",
            "align_content": null,
            "align_items": null,
            "align_self": null,
            "border": null,
            "bottom": null,
            "display": null,
            "flex": null,
            "flex_flow": null,
            "grid_area": null,
            "grid_auto_columns": null,
            "grid_auto_flow": null,
            "grid_auto_rows": null,
            "grid_column": null,
            "grid_gap": null,
            "grid_row": null,
            "grid_template_areas": null,
            "grid_template_columns": null,
            "grid_template_rows": null,
            "height": null,
            "justify_content": null,
            "justify_items": null,
            "left": null,
            "margin": null,
            "max_height": null,
            "max_width": null,
            "min_height": null,
            "min_width": null,
            "object_fit": null,
            "object_position": null,
            "order": null,
            "overflow": null,
            "overflow_x": null,
            "overflow_y": null,
            "padding": null,
            "right": null,
            "top": null,
            "visibility": null,
            "width": null
          }
        },
        "1247f91281d14622abdb4785329ddc75": {
          "model_module": "@jupyter-widgets/controls",
          "model_name": "ProgressStyleModel",
          "model_module_version": "1.5.0",
          "state": {
            "_model_module": "@jupyter-widgets/controls",
            "_model_module_version": "1.5.0",
            "_model_name": "ProgressStyleModel",
            "_view_count": null,
            "_view_module": "@jupyter-widgets/base",
            "_view_module_version": "1.2.0",
            "_view_name": "StyleView",
            "bar_color": null,
            "description_width": ""
          }
        },
        "e8a5fa1576f04302ad2f1b371cbda574": {
          "model_module": "@jupyter-widgets/base",
          "model_name": "LayoutModel",
          "model_module_version": "1.2.0",
          "state": {
            "_model_module": "@jupyter-widgets/base",
            "_model_module_version": "1.2.0",
            "_model_name": "LayoutModel",
            "_view_count": null,
            "_view_module": "@jupyter-widgets/base",
            "_view_module_version": "1.2.0",
            "_view_name": "LayoutView",
            "align_content": null,
            "align_items": null,
            "align_self": null,
            "border": null,
            "bottom": null,
            "display": null,
            "flex": null,
            "flex_flow": null,
            "grid_area": null,
            "grid_auto_columns": null,
            "grid_auto_flow": null,
            "grid_auto_rows": null,
            "grid_column": null,
            "grid_gap": null,
            "grid_row": null,
            "grid_template_areas": null,
            "grid_template_columns": null,
            "grid_template_rows": null,
            "height": null,
            "justify_content": null,
            "justify_items": null,
            "left": null,
            "margin": null,
            "max_height": null,
            "max_width": null,
            "min_height": null,
            "min_width": null,
            "object_fit": null,
            "object_position": null,
            "order": null,
            "overflow": null,
            "overflow_x": null,
            "overflow_y": null,
            "padding": null,
            "right": null,
            "top": null,
            "visibility": null,
            "width": null
          }
        },
        "8043b22db71548789abed0fdb94293ad": {
          "model_module": "@jupyter-widgets/controls",
          "model_name": "DescriptionStyleModel",
          "model_module_version": "1.5.0",
          "state": {
            "_model_module": "@jupyter-widgets/controls",
            "_model_module_version": "1.5.0",
            "_model_name": "DescriptionStyleModel",
            "_view_count": null,
            "_view_module": "@jupyter-widgets/base",
            "_view_module_version": "1.2.0",
            "_view_name": "StyleView",
            "description_width": ""
          }
        },
        "b3c71f57bf6c4c00b0af3af84a949330": {
          "model_module": "@jupyter-widgets/controls",
          "model_name": "HBoxModel",
          "model_module_version": "1.5.0",
          "state": {
            "_dom_classes": [],
            "_model_module": "@jupyter-widgets/controls",
            "_model_module_version": "1.5.0",
            "_model_name": "HBoxModel",
            "_view_count": null,
            "_view_module": "@jupyter-widgets/controls",
            "_view_module_version": "1.5.0",
            "_view_name": "HBoxView",
            "box_style": "",
            "children": [
              "IPY_MODEL_b4c2fcb719a14122a1190ddebd851453",
              "IPY_MODEL_6e18c2e0826e4db9b3b8191b2c3de811",
              "IPY_MODEL_e71b2c80f662413ba44114f2bb5a705d"
            ],
            "layout": "IPY_MODEL_1b3c1bf35fa7400791a65df3afe5bcde"
          }
        },
        "b4c2fcb719a14122a1190ddebd851453": {
          "model_module": "@jupyter-widgets/controls",
          "model_name": "HTMLModel",
          "model_module_version": "1.5.0",
          "state": {
            "_dom_classes": [],
            "_model_module": "@jupyter-widgets/controls",
            "_model_module_version": "1.5.0",
            "_model_name": "HTMLModel",
            "_view_count": null,
            "_view_module": "@jupyter-widgets/controls",
            "_view_module_version": "1.5.0",
            "_view_name": "HTMLView",
            "description": "",
            "description_tooltip": null,
            "layout": "IPY_MODEL_3a48802c87d04874a021278aa11937d3",
            "placeholder": "​",
            "style": "IPY_MODEL_1d86122dd3e64fcfa855b7c6188284ce",
            "value": "Downloading (…)lve/main/config.json: 100%"
          }
        },
        "6e18c2e0826e4db9b3b8191b2c3de811": {
          "model_module": "@jupyter-widgets/controls",
          "model_name": "FloatProgressModel",
          "model_module_version": "1.5.0",
          "state": {
            "_dom_classes": [],
            "_model_module": "@jupyter-widgets/controls",
            "_model_module_version": "1.5.0",
            "_model_name": "FloatProgressModel",
            "_view_count": null,
            "_view_module": "@jupyter-widgets/controls",
            "_view_module_version": "1.5.0",
            "_view_name": "ProgressView",
            "bar_style": "success",
            "description": "",
            "description_tooltip": null,
            "layout": "IPY_MODEL_23f23e35995643efb810d6c2ffbfbe27",
            "max": 625,
            "min": 0,
            "orientation": "horizontal",
            "style": "IPY_MODEL_8b5a5a08c911439f85bbbc5d13b64263",
            "value": 625
          }
        },
        "e71b2c80f662413ba44114f2bb5a705d": {
          "model_module": "@jupyter-widgets/controls",
          "model_name": "HTMLModel",
          "model_module_version": "1.5.0",
          "state": {
            "_dom_classes": [],
            "_model_module": "@jupyter-widgets/controls",
            "_model_module_version": "1.5.0",
            "_model_name": "HTMLModel",
            "_view_count": null,
            "_view_module": "@jupyter-widgets/controls",
            "_view_module_version": "1.5.0",
            "_view_name": "HTMLView",
            "description": "",
            "description_tooltip": null,
            "layout": "IPY_MODEL_804de6f1c81242ea8dcec04dcf1d1903",
            "placeholder": "​",
            "style": "IPY_MODEL_1bb71a05cbf247a7977d1bb5c8d5bf6b",
            "value": " 625/625 [00:00&lt;00:00, 43.0kB/s]"
          }
        },
        "1b3c1bf35fa7400791a65df3afe5bcde": {
          "model_module": "@jupyter-widgets/base",
          "model_name": "LayoutModel",
          "model_module_version": "1.2.0",
          "state": {
            "_model_module": "@jupyter-widgets/base",
            "_model_module_version": "1.2.0",
            "_model_name": "LayoutModel",
            "_view_count": null,
            "_view_module": "@jupyter-widgets/base",
            "_view_module_version": "1.2.0",
            "_view_name": "LayoutView",
            "align_content": null,
            "align_items": null,
            "align_self": null,
            "border": null,
            "bottom": null,
            "display": null,
            "flex": null,
            "flex_flow": null,
            "grid_area": null,
            "grid_auto_columns": null,
            "grid_auto_flow": null,
            "grid_auto_rows": null,
            "grid_column": null,
            "grid_gap": null,
            "grid_row": null,
            "grid_template_areas": null,
            "grid_template_columns": null,
            "grid_template_rows": null,
            "height": null,
            "justify_content": null,
            "justify_items": null,
            "left": null,
            "margin": null,
            "max_height": null,
            "max_width": null,
            "min_height": null,
            "min_width": null,
            "object_fit": null,
            "object_position": null,
            "order": null,
            "overflow": null,
            "overflow_x": null,
            "overflow_y": null,
            "padding": null,
            "right": null,
            "top": null,
            "visibility": null,
            "width": null
          }
        },
        "3a48802c87d04874a021278aa11937d3": {
          "model_module": "@jupyter-widgets/base",
          "model_name": "LayoutModel",
          "model_module_version": "1.2.0",
          "state": {
            "_model_module": "@jupyter-widgets/base",
            "_model_module_version": "1.2.0",
            "_model_name": "LayoutModel",
            "_view_count": null,
            "_view_module": "@jupyter-widgets/base",
            "_view_module_version": "1.2.0",
            "_view_name": "LayoutView",
            "align_content": null,
            "align_items": null,
            "align_self": null,
            "border": null,
            "bottom": null,
            "display": null,
            "flex": null,
            "flex_flow": null,
            "grid_area": null,
            "grid_auto_columns": null,
            "grid_auto_flow": null,
            "grid_auto_rows": null,
            "grid_column": null,
            "grid_gap": null,
            "grid_row": null,
            "grid_template_areas": null,
            "grid_template_columns": null,
            "grid_template_rows": null,
            "height": null,
            "justify_content": null,
            "justify_items": null,
            "left": null,
            "margin": null,
            "max_height": null,
            "max_width": null,
            "min_height": null,
            "min_width": null,
            "object_fit": null,
            "object_position": null,
            "order": null,
            "overflow": null,
            "overflow_x": null,
            "overflow_y": null,
            "padding": null,
            "right": null,
            "top": null,
            "visibility": null,
            "width": null
          }
        },
        "1d86122dd3e64fcfa855b7c6188284ce": {
          "model_module": "@jupyter-widgets/controls",
          "model_name": "DescriptionStyleModel",
          "model_module_version": "1.5.0",
          "state": {
            "_model_module": "@jupyter-widgets/controls",
            "_model_module_version": "1.5.0",
            "_model_name": "DescriptionStyleModel",
            "_view_count": null,
            "_view_module": "@jupyter-widgets/base",
            "_view_module_version": "1.2.0",
            "_view_name": "StyleView",
            "description_width": ""
          }
        },
        "23f23e35995643efb810d6c2ffbfbe27": {
          "model_module": "@jupyter-widgets/base",
          "model_name": "LayoutModel",
          "model_module_version": "1.2.0",
          "state": {
            "_model_module": "@jupyter-widgets/base",
            "_model_module_version": "1.2.0",
            "_model_name": "LayoutModel",
            "_view_count": null,
            "_view_module": "@jupyter-widgets/base",
            "_view_module_version": "1.2.0",
            "_view_name": "LayoutView",
            "align_content": null,
            "align_items": null,
            "align_self": null,
            "border": null,
            "bottom": null,
            "display": null,
            "flex": null,
            "flex_flow": null,
            "grid_area": null,
            "grid_auto_columns": null,
            "grid_auto_flow": null,
            "grid_auto_rows": null,
            "grid_column": null,
            "grid_gap": null,
            "grid_row": null,
            "grid_template_areas": null,
            "grid_template_columns": null,
            "grid_template_rows": null,
            "height": null,
            "justify_content": null,
            "justify_items": null,
            "left": null,
            "margin": null,
            "max_height": null,
            "max_width": null,
            "min_height": null,
            "min_width": null,
            "object_fit": null,
            "object_position": null,
            "order": null,
            "overflow": null,
            "overflow_x": null,
            "overflow_y": null,
            "padding": null,
            "right": null,
            "top": null,
            "visibility": null,
            "width": null
          }
        },
        "8b5a5a08c911439f85bbbc5d13b64263": {
          "model_module": "@jupyter-widgets/controls",
          "model_name": "ProgressStyleModel",
          "model_module_version": "1.5.0",
          "state": {
            "_model_module": "@jupyter-widgets/controls",
            "_model_module_version": "1.5.0",
            "_model_name": "ProgressStyleModel",
            "_view_count": null,
            "_view_module": "@jupyter-widgets/base",
            "_view_module_version": "1.2.0",
            "_view_name": "StyleView",
            "bar_color": null,
            "description_width": ""
          }
        },
        "804de6f1c81242ea8dcec04dcf1d1903": {
          "model_module": "@jupyter-widgets/base",
          "model_name": "LayoutModel",
          "model_module_version": "1.2.0",
          "state": {
            "_model_module": "@jupyter-widgets/base",
            "_model_module_version": "1.2.0",
            "_model_name": "LayoutModel",
            "_view_count": null,
            "_view_module": "@jupyter-widgets/base",
            "_view_module_version": "1.2.0",
            "_view_name": "LayoutView",
            "align_content": null,
            "align_items": null,
            "align_self": null,
            "border": null,
            "bottom": null,
            "display": null,
            "flex": null,
            "flex_flow": null,
            "grid_area": null,
            "grid_auto_columns": null,
            "grid_auto_flow": null,
            "grid_auto_rows": null,
            "grid_column": null,
            "grid_gap": null,
            "grid_row": null,
            "grid_template_areas": null,
            "grid_template_columns": null,
            "grid_template_rows": null,
            "height": null,
            "justify_content": null,
            "justify_items": null,
            "left": null,
            "margin": null,
            "max_height": null,
            "max_width": null,
            "min_height": null,
            "min_width": null,
            "object_fit": null,
            "object_position": null,
            "order": null,
            "overflow": null,
            "overflow_x": null,
            "overflow_y": null,
            "padding": null,
            "right": null,
            "top": null,
            "visibility": null,
            "width": null
          }
        },
        "1bb71a05cbf247a7977d1bb5c8d5bf6b": {
          "model_module": "@jupyter-widgets/controls",
          "model_name": "DescriptionStyleModel",
          "model_module_version": "1.5.0",
          "state": {
            "_model_module": "@jupyter-widgets/controls",
            "_model_module_version": "1.5.0",
            "_model_name": "DescriptionStyleModel",
            "_view_count": null,
            "_view_module": "@jupyter-widgets/base",
            "_view_module_version": "1.2.0",
            "_view_name": "StyleView",
            "description_width": ""
          }
        },
        "6f4adc0e19014064b9995cb3260703f9": {
          "model_module": "@jupyter-widgets/controls",
          "model_name": "HBoxModel",
          "model_module_version": "1.5.0",
          "state": {
            "_dom_classes": [],
            "_model_module": "@jupyter-widgets/controls",
            "_model_module_version": "1.5.0",
            "_model_name": "HBoxModel",
            "_view_count": null,
            "_view_module": "@jupyter-widgets/controls",
            "_view_module_version": "1.5.0",
            "_view_name": "HBoxView",
            "box_style": "",
            "children": [
              "IPY_MODEL_bece6dbf536942b1965b37a96a7db53d",
              "IPY_MODEL_b96a2b8f4570474e9cfea3758dfc4d1a",
              "IPY_MODEL_218e1cc446244997b3192d061b52252a"
            ],
            "layout": "IPY_MODEL_30d8d910cfac43779409a168788d2684"
          }
        },
        "bece6dbf536942b1965b37a96a7db53d": {
          "model_module": "@jupyter-widgets/controls",
          "model_name": "HTMLModel",
          "model_module_version": "1.5.0",
          "state": {
            "_dom_classes": [],
            "_model_module": "@jupyter-widgets/controls",
            "_model_module_version": "1.5.0",
            "_model_name": "HTMLModel",
            "_view_count": null,
            "_view_module": "@jupyter-widgets/controls",
            "_view_module_version": "1.5.0",
            "_view_name": "HTMLView",
            "description": "",
            "description_tooltip": null,
            "layout": "IPY_MODEL_ec741cdd34134003bfab74e1765cb353",
            "placeholder": "​",
            "style": "IPY_MODEL_248ecf2478c943ed8c1d4c13508bb46a",
            "value": "Downloading pytorch_model.bin: 100%"
          }
        },
        "b96a2b8f4570474e9cfea3758dfc4d1a": {
          "model_module": "@jupyter-widgets/controls",
          "model_name": "FloatProgressModel",
          "model_module_version": "1.5.0",
          "state": {
            "_dom_classes": [],
            "_model_module": "@jupyter-widgets/controls",
            "_model_module_version": "1.5.0",
            "_model_name": "FloatProgressModel",
            "_view_count": null,
            "_view_module": "@jupyter-widgets/controls",
            "_view_module_version": "1.5.0",
            "_view_name": "ProgressView",
            "bar_style": "success",
            "description": "",
            "description_tooltip": null,
            "layout": "IPY_MODEL_86e06408aa744902aa2916d3582d7448",
            "max": 714314041,
            "min": 0,
            "orientation": "horizontal",
            "style": "IPY_MODEL_ed83fa3558b940a7935a02665552a1e3",
            "value": 714314041
          }
        },
        "218e1cc446244997b3192d061b52252a": {
          "model_module": "@jupyter-widgets/controls",
          "model_name": "HTMLModel",
          "model_module_version": "1.5.0",
          "state": {
            "_dom_classes": [],
            "_model_module": "@jupyter-widgets/controls",
            "_model_module_version": "1.5.0",
            "_model_name": "HTMLModel",
            "_view_count": null,
            "_view_module": "@jupyter-widgets/controls",
            "_view_module_version": "1.5.0",
            "_view_name": "HTMLView",
            "description": "",
            "description_tooltip": null,
            "layout": "IPY_MODEL_89b50d8e5c634fb49781d3260123841f",
            "placeholder": "​",
            "style": "IPY_MODEL_c77144c58de5464f88691702e66bb195",
            "value": " 714M/714M [00:20&lt;00:00, 113MB/s]"
          }
        },
        "30d8d910cfac43779409a168788d2684": {
          "model_module": "@jupyter-widgets/base",
          "model_name": "LayoutModel",
          "model_module_version": "1.2.0",
          "state": {
            "_model_module": "@jupyter-widgets/base",
            "_model_module_version": "1.2.0",
            "_model_name": "LayoutModel",
            "_view_count": null,
            "_view_module": "@jupyter-widgets/base",
            "_view_module_version": "1.2.0",
            "_view_name": "LayoutView",
            "align_content": null,
            "align_items": null,
            "align_self": null,
            "border": null,
            "bottom": null,
            "display": null,
            "flex": null,
            "flex_flow": null,
            "grid_area": null,
            "grid_auto_columns": null,
            "grid_auto_flow": null,
            "grid_auto_rows": null,
            "grid_column": null,
            "grid_gap": null,
            "grid_row": null,
            "grid_template_areas": null,
            "grid_template_columns": null,
            "grid_template_rows": null,
            "height": null,
            "justify_content": null,
            "justify_items": null,
            "left": null,
            "margin": null,
            "max_height": null,
            "max_width": null,
            "min_height": null,
            "min_width": null,
            "object_fit": null,
            "object_position": null,
            "order": null,
            "overflow": null,
            "overflow_x": null,
            "overflow_y": null,
            "padding": null,
            "right": null,
            "top": null,
            "visibility": null,
            "width": null
          }
        },
        "ec741cdd34134003bfab74e1765cb353": {
          "model_module": "@jupyter-widgets/base",
          "model_name": "LayoutModel",
          "model_module_version": "1.2.0",
          "state": {
            "_model_module": "@jupyter-widgets/base",
            "_model_module_version": "1.2.0",
            "_model_name": "LayoutModel",
            "_view_count": null,
            "_view_module": "@jupyter-widgets/base",
            "_view_module_version": "1.2.0",
            "_view_name": "LayoutView",
            "align_content": null,
            "align_items": null,
            "align_self": null,
            "border": null,
            "bottom": null,
            "display": null,
            "flex": null,
            "flex_flow": null,
            "grid_area": null,
            "grid_auto_columns": null,
            "grid_auto_flow": null,
            "grid_auto_rows": null,
            "grid_column": null,
            "grid_gap": null,
            "grid_row": null,
            "grid_template_areas": null,
            "grid_template_columns": null,
            "grid_template_rows": null,
            "height": null,
            "justify_content": null,
            "justify_items": null,
            "left": null,
            "margin": null,
            "max_height": null,
            "max_width": null,
            "min_height": null,
            "min_width": null,
            "object_fit": null,
            "object_position": null,
            "order": null,
            "overflow": null,
            "overflow_x": null,
            "overflow_y": null,
            "padding": null,
            "right": null,
            "top": null,
            "visibility": null,
            "width": null
          }
        },
        "248ecf2478c943ed8c1d4c13508bb46a": {
          "model_module": "@jupyter-widgets/controls",
          "model_name": "DescriptionStyleModel",
          "model_module_version": "1.5.0",
          "state": {
            "_model_module": "@jupyter-widgets/controls",
            "_model_module_version": "1.5.0",
            "_model_name": "DescriptionStyleModel",
            "_view_count": null,
            "_view_module": "@jupyter-widgets/base",
            "_view_module_version": "1.2.0",
            "_view_name": "StyleView",
            "description_width": ""
          }
        },
        "86e06408aa744902aa2916d3582d7448": {
          "model_module": "@jupyter-widgets/base",
          "model_name": "LayoutModel",
          "model_module_version": "1.2.0",
          "state": {
            "_model_module": "@jupyter-widgets/base",
            "_model_module_version": "1.2.0",
            "_model_name": "LayoutModel",
            "_view_count": null,
            "_view_module": "@jupyter-widgets/base",
            "_view_module_version": "1.2.0",
            "_view_name": "LayoutView",
            "align_content": null,
            "align_items": null,
            "align_self": null,
            "border": null,
            "bottom": null,
            "display": null,
            "flex": null,
            "flex_flow": null,
            "grid_area": null,
            "grid_auto_columns": null,
            "grid_auto_flow": null,
            "grid_auto_rows": null,
            "grid_column": null,
            "grid_gap": null,
            "grid_row": null,
            "grid_template_areas": null,
            "grid_template_columns": null,
            "grid_template_rows": null,
            "height": null,
            "justify_content": null,
            "justify_items": null,
            "left": null,
            "margin": null,
            "max_height": null,
            "max_width": null,
            "min_height": null,
            "min_width": null,
            "object_fit": null,
            "object_position": null,
            "order": null,
            "overflow": null,
            "overflow_x": null,
            "overflow_y": null,
            "padding": null,
            "right": null,
            "top": null,
            "visibility": null,
            "width": null
          }
        },
        "ed83fa3558b940a7935a02665552a1e3": {
          "model_module": "@jupyter-widgets/controls",
          "model_name": "ProgressStyleModel",
          "model_module_version": "1.5.0",
          "state": {
            "_model_module": "@jupyter-widgets/controls",
            "_model_module_version": "1.5.0",
            "_model_name": "ProgressStyleModel",
            "_view_count": null,
            "_view_module": "@jupyter-widgets/base",
            "_view_module_version": "1.2.0",
            "_view_name": "StyleView",
            "bar_color": null,
            "description_width": ""
          }
        },
        "89b50d8e5c634fb49781d3260123841f": {
          "model_module": "@jupyter-widgets/base",
          "model_name": "LayoutModel",
          "model_module_version": "1.2.0",
          "state": {
            "_model_module": "@jupyter-widgets/base",
            "_model_module_version": "1.2.0",
            "_model_name": "LayoutModel",
            "_view_count": null,
            "_view_module": "@jupyter-widgets/base",
            "_view_module_version": "1.2.0",
            "_view_name": "LayoutView",
            "align_content": null,
            "align_items": null,
            "align_self": null,
            "border": null,
            "bottom": null,
            "display": null,
            "flex": null,
            "flex_flow": null,
            "grid_area": null,
            "grid_auto_columns": null,
            "grid_auto_flow": null,
            "grid_auto_rows": null,
            "grid_column": null,
            "grid_gap": null,
            "grid_row": null,
            "grid_template_areas": null,
            "grid_template_columns": null,
            "grid_template_rows": null,
            "height": null,
            "justify_content": null,
            "justify_items": null,
            "left": null,
            "margin": null,
            "max_height": null,
            "max_width": null,
            "min_height": null,
            "min_width": null,
            "object_fit": null,
            "object_position": null,
            "order": null,
            "overflow": null,
            "overflow_x": null,
            "overflow_y": null,
            "padding": null,
            "right": null,
            "top": null,
            "visibility": null,
            "width": null
          }
        },
        "c77144c58de5464f88691702e66bb195": {
          "model_module": "@jupyter-widgets/controls",
          "model_name": "DescriptionStyleModel",
          "model_module_version": "1.5.0",
          "state": {
            "_model_module": "@jupyter-widgets/controls",
            "_model_module_version": "1.5.0",
            "_model_name": "DescriptionStyleModel",
            "_view_count": null,
            "_view_module": "@jupyter-widgets/base",
            "_view_module_version": "1.2.0",
            "_view_name": "StyleView",
            "description_width": ""
          }
        }
      }
    }
  },
  "cells": [
    {
      "cell_type": "code",
      "source": [
        "!pip install transformers"
      ],
      "metadata": {
        "id": "CCv3ysyhmEpU"
      },
      "execution_count": null,
      "outputs": []
    },
    {
      "cell_type": "code",
      "source": [
        "import pandas as pd\n",
        "import numpy as np\n",
        "import torch\n",
        "import torch.nn as nn\n",
        "from torch.autograd import Variable\n",
        "import torch.nn.functional as functional\n",
        "import matplotlib.pyplot as plt\n",
        "from transformers import BertForSequenceClassification, AdamW, BertConfig\n",
        "import gc\n",
        "from transformers import BertModel\n",
        "from sklearn.metrics import roc_auc_score,f1_score\n",
        "import time\n",
        "import datetime"
      ],
      "metadata": {
        "id": "ME1RaY0PmFP4"
      },
      "execution_count": null,
      "outputs": []
    },
    {
      "cell_type": "code",
      "source": [
        "torch.manual_seed(0)\n",
        "use_cuda = torch.cuda.is_available()\n",
        "device = torch.device('cuda' if use_cuda else 'cpu')\n",
        "if use_cuda:\n",
        "    torch.cuda.manual_seed(0)\n",
        "    \n",
        "print(\"Using GPU: {}\".format(use_cuda))"
      ],
      "metadata": {
        "colab": {
          "base_uri": "https://localhost:8080/"
        },
        "id": "WpVPCmD8n88d",
        "outputId": "bb12f187-9e11-4a51-dd99-d70ddf206c9c"
      },
      "execution_count": null,
      "outputs": [
        {
          "output_type": "stream",
          "name": "stdout",
          "text": [
            "Using GPU: True\n"
          ]
        }
      ]
    },
    {
      "cell_type": "code",
      "source": [
        "train = pd.read_csv('/content/drive/MyDrive/HasocDataset/hindi_2021.csv')\n",
        "train.head"
      ],
      "metadata": {
        "colab": {
          "base_uri": "https://localhost:8080/"
        },
        "id": "h5OhWOa7n-1j",
        "outputId": "0ad0f6a3-3018-4c15-8a72-1361554da30f"
      },
      "execution_count": null,
      "outputs": [
        {
          "output_type": "execute_result",
          "data": {
            "text/plain": [
              "<bound method NDFrame.head of       Unnamed: 0                       _id            tweet_id  \\\n",
              "0            998  60c5d7495659ea5e55df0b7b   hi_hasoc_2021_998   \n",
              "1           4049  60c5d7495659ea5e55df1b73  hi_hasoc_2021_4049   \n",
              "2           1757  60c5d7495659ea5e55df0d1b  hi_hasoc_2021_1757   \n",
              "3           5175  60c5d7495659ea5e55df0e45  hi_hasoc_2021_5178   \n",
              "4           1825  60c5d7495659ea5e55df0ee1  hi_hasoc_2021_1825   \n",
              "...          ...                       ...                 ...   \n",
              "4589        2481  60c5d7495659ea5e55df13ff  hi_hasoc_2021_2481   \n",
              "4590        3711  60c5d7495659ea5e55df1b13  hi_hasoc_2021_3711   \n",
              "4591        3113  60c5d7495659ea5e55df1678  hi_hasoc_2021_3113   \n",
              "4592         824  60c5d7495659ea5e55df091b   hi_hasoc_2021_824   \n",
              "4593        4309  60c5d7495659ea5e55df06c9  hi_hasoc_2021_4310   \n",
              "\n",
              "                                                   text task_1 task_2  \n",
              "0     @rssurjewala #Hindus DYING #HindusLivesMatter ...    NOT   NONE  \n",
              "1     सब लोग इतने पैसे डोनेट ही कर रहे हैं फिर भी आम...    NOT   NONE  \n",
              "2     शेर-ए- सिवान शहाबुद्दीन साहब से रिश्ता क्या  ل...    NOT   NONE  \n",
              "3            @AskAnshul आसमानी किताब के नाजायज औलाद है।    HOF   OFFN  \n",
              "4     @Shikha0222 इसे कहते हैं दोगला पंती जिस सपा की...    NOT   NONE  \n",
              "...                                                 ...    ...    ...  \n",
              "4589  सिवान के पुर्व सांसद मरहुम मो सहाबुदीन के रहस्...    NOT   NONE  \n",
              "4590  वर्ष 1989-1990 के दौरान कश्मीर के हिंदुओं के स...    NOT   NONE  \n",
              "4591  #किसानों_का_मोदी_को_धोबीपटका #ResignPMmodi htt...    NOT   NONE  \n",
              "4592  @Ravishk356 @newslaundry @abhisar_sharma मोदी ...    NOT   NONE  \n",
              "4593  बिहार के लोगों इन झूठे मक्कार राजनेताओं का चहर...    HOF   OFFN  \n",
              "\n",
              "[4594 rows x 6 columns]>"
            ]
          },
          "metadata": {},
          "execution_count": 67
        }
      ]
    },
    {
      "cell_type": "code",
      "source": [
        "train = train.drop('task_2',axis=1)\n",
        "train.columns = ['ID','TwitterID','HASOCID','Text','Type']\n",
        "train = train.drop(['ID','TwitterID','HASOCID'],axis=1)"
      ],
      "metadata": {
        "id": "O3CAlMpDogTB"
      },
      "execution_count": null,
      "outputs": []
    },
    {
      "cell_type": "code",
      "source": [
        "train.rename(columns = {'Text':'tweet','Type':'label'}, inplace = True)\n",
        "train.head"
      ],
      "metadata": {
        "colab": {
          "base_uri": "https://localhost:8080/"
        },
        "id": "3ZErbCIuonSa",
        "outputId": "993d277c-fa8e-4508-9b1c-74bc3d793081"
      },
      "execution_count": null,
      "outputs": [
        {
          "output_type": "execute_result",
          "data": {
            "text/plain": [
              "<bound method NDFrame.head of                                                   tweet label\n",
              "0     @rssurjewala #Hindus DYING #HindusLivesMatter ...   NOT\n",
              "1     सब लोग इतने पैसे डोनेट ही कर रहे हैं फिर भी आम...   NOT\n",
              "2     शेर-ए- सिवान शहाबुद्दीन साहब से रिश्ता क्या  ل...   NOT\n",
              "3            @AskAnshul आसमानी किताब के नाजायज औलाद है।   HOF\n",
              "4     @Shikha0222 इसे कहते हैं दोगला पंती जिस सपा की...   NOT\n",
              "...                                                 ...   ...\n",
              "4589  सिवान के पुर्व सांसद मरहुम मो सहाबुदीन के रहस्...   NOT\n",
              "4590  वर्ष 1989-1990 के दौरान कश्मीर के हिंदुओं के स...   NOT\n",
              "4591  #किसानों_का_मोदी_को_धोबीपटका #ResignPMmodi htt...   NOT\n",
              "4592  @Ravishk356 @newslaundry @abhisar_sharma मोदी ...   NOT\n",
              "4593  बिहार के लोगों इन झूठे मक्कार राजनेताओं का चहर...   HOF\n",
              "\n",
              "[4594 rows x 2 columns]>"
            ]
          },
          "metadata": {},
          "execution_count": 69
        }
      ]
    },
    {
      "cell_type": "code",
      "source": [
        "train[\"label\"] = train[\"label\"].map({\"HOF\": 0, \"NOT\": 1})\n",
        "train.head"
      ],
      "metadata": {
        "colab": {
          "base_uri": "https://localhost:8080/"
        },
        "id": "Arty2-3Kn-yF",
        "outputId": "37cbbf16-f00e-4199-fe0d-6f299548e285"
      },
      "execution_count": null,
      "outputs": [
        {
          "output_type": "execute_result",
          "data": {
            "text/plain": [
              "<bound method NDFrame.head of                                                   tweet  label\n",
              "0     @rssurjewala #Hindus DYING #HindusLivesMatter ...      1\n",
              "1     सब लोग इतने पैसे डोनेट ही कर रहे हैं फिर भी आम...      1\n",
              "2     शेर-ए- सिवान शहाबुद्दीन साहब से रिश्ता क्या  ل...      1\n",
              "3            @AskAnshul आसमानी किताब के नाजायज औलाद है।      0\n",
              "4     @Shikha0222 इसे कहते हैं दोगला पंती जिस सपा की...      1\n",
              "...                                                 ...    ...\n",
              "4589  सिवान के पुर्व सांसद मरहुम मो सहाबुदीन के रहस्...      1\n",
              "4590  वर्ष 1989-1990 के दौरान कश्मीर के हिंदुओं के स...      1\n",
              "4591  #किसानों_का_मोदी_को_धोबीपटका #ResignPMmodi htt...      1\n",
              "4592  @Ravishk356 @newslaundry @abhisar_sharma मोदी ...      1\n",
              "4593  बिहार के लोगों इन झूठे मक्कार राजनेताओं का चहर...      0\n",
              "\n",
              "[4594 rows x 2 columns]>"
            ]
          },
          "metadata": {},
          "execution_count": 70
        }
      ]
    },
    {
      "cell_type": "code",
      "source": [
        "data = train.copy()"
      ],
      "metadata": {
        "id": "e1VIRWXVu5-r"
      },
      "execution_count": null,
      "outputs": []
    },
    {
      "cell_type": "code",
      "source": [
        "import re"
      ],
      "metadata": {
        "id": "zr9shwmzvOcz"
      },
      "execution_count": null,
      "outputs": []
    },
    {
      "cell_type": "code",
      "source": [
        "USERNAME_PATTERN = r'@([A-Za-z0-9_]+)'\n",
        "PUNCTUATION_PATTERN = '\\'’|!@$%^&*()_+<>?:.,;-' "
      ],
      "metadata": {
        "id": "R0Pj2hs5sASt"
      },
      "execution_count": null,
      "outputs": []
    },
    {
      "cell_type": "code",
      "source": [
        "stopwords_hindi_file = pd.read_csv('/content/drive/MyDrive/HasocDataset/stopwords-hi.txt',header=None) # hindi stop words.\n",
        "# stopwords_hindi = [line.replace('\\n','') for line in stopwords_hindi_file]"
      ],
      "metadata": {
        "id": "av9N5lWasQjN"
      },
      "execution_count": null,
      "outputs": []
    },
    {
      "cell_type": "code",
      "source": [
        "def remove_punctuations(text):\n",
        "  return \"\".join([c for c in text if c not in PUNCTUATION_PATTERN])\n",
        "\n",
        "def remove_stopwords(text):\n",
        "  return \" \".join([word for word in text.split() if word not in stopwords_hindi_file])\n",
        "\n",
        "def remove_usernames(text):\n",
        "  return re.sub(USERNAME_PATTERN, '', text)"
      ],
      "metadata": {
        "id": "zlIkuzDRuLGF"
      },
      "execution_count": null,
      "outputs": []
    },
    {
      "cell_type": "code",
      "source": [
        "data['clean_text'] = data['tweet'].apply(remove_usernames)# removing usernames\n",
        "data['clean_text'] = data['clean_text'].apply(remove_punctuations)# removing punctuations\n",
        "data['clean_text'] = data['clean_text'].apply(remove_stopwords) # removing stopwords"
      ],
      "metadata": {
        "id": "SDn_v-J3uhCC"
      },
      "execution_count": null,
      "outputs": []
    },
    {
      "cell_type": "code",
      "source": [
        "data.drop(['tweet'],axis = 1)"
      ],
      "metadata": {
        "colab": {
          "base_uri": "https://localhost:8080/",
          "height": 423
        },
        "id": "-sVqNd-_vR7z",
        "outputId": "35738e95-4ff9-4958-bb45-ad4d480e836f"
      },
      "execution_count": null,
      "outputs": [
        {
          "output_type": "execute_result",
          "data": {
            "text/plain": [
              "      label                                         clean_text\n",
              "0         1  #Hindus DYING #HindusLivesMatter #KindAttnPMNa...\n",
              "1         1  सब लोग इतने पैसे डोनेट ही कर रहे हैं फिर भी आम...\n",
              "2         1  शेरए सिवान शहाबुद्दीन साहब से रिश्ता क्या لا إ...\n",
              "3         0                    आसमानी किताब के नाजायज औलाद है।\n",
              "4         1  इसे कहते हैं दोगला पंती जिस सपा की दम पर 0 से ...\n",
              "...     ...                                                ...\n",
              "4589      1  सिवान के पुर्व सांसद मरहुम मो सहाबुदीन के रहस्...\n",
              "4590      1  वर्ष 19891990 के दौरान कश्मीर के हिंदुओं के सा...\n",
              "4591      1  #किसानोंकामोदीकोधोबीपटका #ResignPMmodi https//...\n",
              "4592      1  मोदी तुम इस्तीफा दो हम तुम्हारे साथ है #Resign...\n",
              "4593      0  बिहार के लोगों इन झूठे मक्कार राजनेताओं का चहर...\n",
              "\n",
              "[4594 rows x 2 columns]"
            ],
            "text/html": [
              "\n",
              "  <div id=\"df-7932b036-b5ad-4efb-b4ce-9363ce6962b3\">\n",
              "    <div class=\"colab-df-container\">\n",
              "      <div>\n",
              "<style scoped>\n",
              "    .dataframe tbody tr th:only-of-type {\n",
              "        vertical-align: middle;\n",
              "    }\n",
              "\n",
              "    .dataframe tbody tr th {\n",
              "        vertical-align: top;\n",
              "    }\n",
              "\n",
              "    .dataframe thead th {\n",
              "        text-align: right;\n",
              "    }\n",
              "</style>\n",
              "<table border=\"1\" class=\"dataframe\">\n",
              "  <thead>\n",
              "    <tr style=\"text-align: right;\">\n",
              "      <th></th>\n",
              "      <th>label</th>\n",
              "      <th>clean_text</th>\n",
              "    </tr>\n",
              "  </thead>\n",
              "  <tbody>\n",
              "    <tr>\n",
              "      <th>0</th>\n",
              "      <td>1</td>\n",
              "      <td>#Hindus DYING #HindusLivesMatter #KindAttnPMNa...</td>\n",
              "    </tr>\n",
              "    <tr>\n",
              "      <th>1</th>\n",
              "      <td>1</td>\n",
              "      <td>सब लोग इतने पैसे डोनेट ही कर रहे हैं फिर भी आम...</td>\n",
              "    </tr>\n",
              "    <tr>\n",
              "      <th>2</th>\n",
              "      <td>1</td>\n",
              "      <td>शेरए सिवान शहाबुद्दीन साहब से रिश्ता क्या لا إ...</td>\n",
              "    </tr>\n",
              "    <tr>\n",
              "      <th>3</th>\n",
              "      <td>0</td>\n",
              "      <td>आसमानी किताब के नाजायज औलाद है।</td>\n",
              "    </tr>\n",
              "    <tr>\n",
              "      <th>4</th>\n",
              "      <td>1</td>\n",
              "      <td>इसे कहते हैं दोगला पंती जिस सपा की दम पर 0 से ...</td>\n",
              "    </tr>\n",
              "    <tr>\n",
              "      <th>...</th>\n",
              "      <td>...</td>\n",
              "      <td>...</td>\n",
              "    </tr>\n",
              "    <tr>\n",
              "      <th>4589</th>\n",
              "      <td>1</td>\n",
              "      <td>सिवान के पुर्व सांसद मरहुम मो सहाबुदीन के रहस्...</td>\n",
              "    </tr>\n",
              "    <tr>\n",
              "      <th>4590</th>\n",
              "      <td>1</td>\n",
              "      <td>वर्ष 19891990 के दौरान कश्मीर के हिंदुओं के सा...</td>\n",
              "    </tr>\n",
              "    <tr>\n",
              "      <th>4591</th>\n",
              "      <td>1</td>\n",
              "      <td>#किसानोंकामोदीकोधोबीपटका #ResignPMmodi https//...</td>\n",
              "    </tr>\n",
              "    <tr>\n",
              "      <th>4592</th>\n",
              "      <td>1</td>\n",
              "      <td>मोदी तुम इस्तीफा दो हम तुम्हारे साथ है #Resign...</td>\n",
              "    </tr>\n",
              "    <tr>\n",
              "      <th>4593</th>\n",
              "      <td>0</td>\n",
              "      <td>बिहार के लोगों इन झूठे मक्कार राजनेताओं का चहर...</td>\n",
              "    </tr>\n",
              "  </tbody>\n",
              "</table>\n",
              "<p>4594 rows × 2 columns</p>\n",
              "</div>\n",
              "      <button class=\"colab-df-convert\" onclick=\"convertToInteractive('df-7932b036-b5ad-4efb-b4ce-9363ce6962b3')\"\n",
              "              title=\"Convert this dataframe to an interactive table.\"\n",
              "              style=\"display:none;\">\n",
              "        \n",
              "  <svg xmlns=\"http://www.w3.org/2000/svg\" height=\"24px\"viewBox=\"0 0 24 24\"\n",
              "       width=\"24px\">\n",
              "    <path d=\"M0 0h24v24H0V0z\" fill=\"none\"/>\n",
              "    <path d=\"M18.56 5.44l.94 2.06.94-2.06 2.06-.94-2.06-.94-.94-2.06-.94 2.06-2.06.94zm-11 1L8.5 8.5l.94-2.06 2.06-.94-2.06-.94L8.5 2.5l-.94 2.06-2.06.94zm10 10l.94 2.06.94-2.06 2.06-.94-2.06-.94-.94-2.06-.94 2.06-2.06.94z\"/><path d=\"M17.41 7.96l-1.37-1.37c-.4-.4-.92-.59-1.43-.59-.52 0-1.04.2-1.43.59L10.3 9.45l-7.72 7.72c-.78.78-.78 2.05 0 2.83L4 21.41c.39.39.9.59 1.41.59.51 0 1.02-.2 1.41-.59l7.78-7.78 2.81-2.81c.8-.78.8-2.07 0-2.86zM5.41 20L4 18.59l7.72-7.72 1.47 1.35L5.41 20z\"/>\n",
              "  </svg>\n",
              "      </button>\n",
              "      \n",
              "  <style>\n",
              "    .colab-df-container {\n",
              "      display:flex;\n",
              "      flex-wrap:wrap;\n",
              "      gap: 12px;\n",
              "    }\n",
              "\n",
              "    .colab-df-convert {\n",
              "      background-color: #E8F0FE;\n",
              "      border: none;\n",
              "      border-radius: 50%;\n",
              "      cursor: pointer;\n",
              "      display: none;\n",
              "      fill: #1967D2;\n",
              "      height: 32px;\n",
              "      padding: 0 0 0 0;\n",
              "      width: 32px;\n",
              "    }\n",
              "\n",
              "    .colab-df-convert:hover {\n",
              "      background-color: #E2EBFA;\n",
              "      box-shadow: 0px 1px 2px rgba(60, 64, 67, 0.3), 0px 1px 3px 1px rgba(60, 64, 67, 0.15);\n",
              "      fill: #174EA6;\n",
              "    }\n",
              "\n",
              "    [theme=dark] .colab-df-convert {\n",
              "      background-color: #3B4455;\n",
              "      fill: #D2E3FC;\n",
              "    }\n",
              "\n",
              "    [theme=dark] .colab-df-convert:hover {\n",
              "      background-color: #434B5C;\n",
              "      box-shadow: 0px 1px 3px 1px rgba(0, 0, 0, 0.15);\n",
              "      filter: drop-shadow(0px 1px 2px rgba(0, 0, 0, 0.3));\n",
              "      fill: #FFFFFF;\n",
              "    }\n",
              "  </style>\n",
              "\n",
              "      <script>\n",
              "        const buttonEl =\n",
              "          document.querySelector('#df-7932b036-b5ad-4efb-b4ce-9363ce6962b3 button.colab-df-convert');\n",
              "        buttonEl.style.display =\n",
              "          google.colab.kernel.accessAllowed ? 'block' : 'none';\n",
              "\n",
              "        async function convertToInteractive(key) {\n",
              "          const element = document.querySelector('#df-7932b036-b5ad-4efb-b4ce-9363ce6962b3');\n",
              "          const dataTable =\n",
              "            await google.colab.kernel.invokeFunction('convertToInteractive',\n",
              "                                                     [key], {});\n",
              "          if (!dataTable) return;\n",
              "\n",
              "          const docLinkHtml = 'Like what you see? Visit the ' +\n",
              "            '<a target=\"_blank\" href=https://colab.research.google.com/notebooks/data_table.ipynb>data table notebook</a>'\n",
              "            + ' to learn more about interactive tables.';\n",
              "          element.innerHTML = '';\n",
              "          dataTable['output_type'] = 'display_data';\n",
              "          await google.colab.output.renderOutput(dataTable, element);\n",
              "          const docLink = document.createElement('div');\n",
              "          docLink.innerHTML = docLinkHtml;\n",
              "          element.appendChild(docLink);\n",
              "        }\n",
              "      </script>\n",
              "    </div>\n",
              "  </div>\n",
              "  "
            ]
          },
          "metadata": {},
          "execution_count": 78
        }
      ]
    },
    {
      "cell_type": "code",
      "source": [
        "from transformers import BertTokenizer\n",
        "print('Loading BERT tokenizer...')\n",
        "tokenizer = BertTokenizer.from_pretrained('bert-base-multilingual-cased', do_lower_case=True)"
      ],
      "metadata": {
        "colab": {
          "base_uri": "https://localhost:8080/",
          "height": 131,
          "referenced_widgets": [
            "133cd2a4574a42f887f9b8bc1bc5ae0f",
            "7b4868b7f57e48658913ba38f7e3a349",
            "44556e96cd2d481382bbcee554ffd221",
            "cdd551c2bea34df0aedcf50c7e0ccb7b",
            "a26dd675960f4888a03ae641da9370a3",
            "961fffb40090489f80396b9c3fe1a5f0",
            "343c818df19b403fa940066ce8b4916e",
            "095c912c82ac4a98b315cb86195b76c8",
            "48994051f8cd43a3a6ecf0325192b05d",
            "80bdfbd34acb4d6b8d4ec7a15fd9e790",
            "bde0d878f5d34283a89c31c75f0c8f9e",
            "c607e8c0b72a43cdb192ae3653e73888",
            "2beff727cdc44367930ee78b5da6fef3",
            "e7e7fd59beba4eae93812cfc2e7d8c3f",
            "1861bb327dd24b19b63739c90c0662c5",
            "f77606aa633443768d2869382afdb29f",
            "1423b85173964c5288e6e576e0d242a6",
            "adbeade60a4841869d00edf07e83f91e",
            "cedbe136348b4b26873a6b7854dacbc4",
            "1247f91281d14622abdb4785329ddc75",
            "e8a5fa1576f04302ad2f1b371cbda574",
            "8043b22db71548789abed0fdb94293ad",
            "b3c71f57bf6c4c00b0af3af84a949330",
            "b4c2fcb719a14122a1190ddebd851453",
            "6e18c2e0826e4db9b3b8191b2c3de811",
            "e71b2c80f662413ba44114f2bb5a705d",
            "1b3c1bf35fa7400791a65df3afe5bcde",
            "3a48802c87d04874a021278aa11937d3",
            "1d86122dd3e64fcfa855b7c6188284ce",
            "23f23e35995643efb810d6c2ffbfbe27",
            "8b5a5a08c911439f85bbbc5d13b64263",
            "804de6f1c81242ea8dcec04dcf1d1903",
            "1bb71a05cbf247a7977d1bb5c8d5bf6b"
          ]
        },
        "id": "Z-AGeZRjn-vw",
        "outputId": "1e873aa9-8958-4665-851b-579144ef24a1"
      },
      "execution_count": null,
      "outputs": [
        {
          "output_type": "stream",
          "name": "stdout",
          "text": [
            "Loading BERT tokenizer...\n"
          ]
        },
        {
          "output_type": "display_data",
          "data": {
            "text/plain": [
              "Downloading (…)solve/main/vocab.txt:   0%|          | 0.00/996k [00:00<?, ?B/s]"
            ],
            "application/vnd.jupyter.widget-view+json": {
              "version_major": 2,
              "version_minor": 0,
              "model_id": "133cd2a4574a42f887f9b8bc1bc5ae0f"
            }
          },
          "metadata": {}
        },
        {
          "output_type": "display_data",
          "data": {
            "text/plain": [
              "Downloading (…)okenizer_config.json:   0%|          | 0.00/29.0 [00:00<?, ?B/s]"
            ],
            "application/vnd.jupyter.widget-view+json": {
              "version_major": 2,
              "version_minor": 0,
              "model_id": "c607e8c0b72a43cdb192ae3653e73888"
            }
          },
          "metadata": {}
        },
        {
          "output_type": "display_data",
          "data": {
            "text/plain": [
              "Downloading (…)lve/main/config.json:   0%|          | 0.00/625 [00:00<?, ?B/s]"
            ],
            "application/vnd.jupyter.widget-view+json": {
              "version_major": 2,
              "version_minor": 0,
              "model_id": "b3c71f57bf6c4c00b0af3af84a949330"
            }
          },
          "metadata": {}
        }
      ]
    },
    {
      "cell_type": "code",
      "source": [
        "tweets = train.tweet.values\n",
        "labels = train.label.values"
      ],
      "metadata": {
        "id": "oH8kmtXUn-kt"
      },
      "execution_count": null,
      "outputs": []
    },
    {
      "cell_type": "code",
      "source": [
        "print(' Original: ', tweets[0])\n",
        "\n",
        "print('Tokenized: ', tokenizer.tokenize(tweets[0]))\n",
        "\n",
        "print('Token IDs: ', tokenizer.convert_tokens_to_ids(tokenizer.tokenize(tweets[0])))"
      ],
      "metadata": {
        "colab": {
          "base_uri": "https://localhost:8080/"
        },
        "id": "X04W06m8pjOh",
        "outputId": "66a594cd-385c-498a-ff89-bcb78ea717d3"
      },
      "execution_count": null,
      "outputs": [
        {
          "output_type": "stream",
          "name": "stdout",
          "text": [
            " Original:  @rssurjewala #Hindus DYING #HindusLivesMatter   #KindAttnPMNarendraModi  #coronasecondwaveinindia #ModiMadeDisaster #ResignModi    #BJP #RSS LIARS   I WARNED 2 YRS BACK #RSSTerrorists BANNED BY SARDAR PATEL IGNORED  #शेर_नहीं_भेड़िया_पाल_लिया_भक्तो  #MautKaSaudagar\n",
            "Tokenized:  ['@', 'rs', '##sur', '##je', '##wala', '#', 'hin', '##dus', 'dying', '#', 'hin', '##dus', '##liv', '##es', '##mat', '##ter', '#', 'kind', '##att', '##n', '##pm', '##naren', '##dra', '##mo', '##di', '#', 'corona', '##se', '##con', '##dw', '##ave', '##inin', '##dia', '#', 'modi', '##made', '##dis', '##aster', '#', 'res', '##ign', '##mo', '##di', '#', 'b', '##j', '##p', '#', 'rs', '##s', 'li', '##ars', 'i', 'war', '##ned', '2', 'yr', '##s', 'back', '#', 'rs', '##ster', '##ror', '##ists', 'banned', 'by', 'sa', '##rda', '##r', 'pat', '##el', 'ig', '##nore', '##d', '#', 'श', '##र', '_', 'न', '##ही', '_', 'भ', '##डिया', '_', 'प', '##ाल', '_', 'लिया', '_', 'भ', '##क', '##तो', '#', 'mau', '##tka', '##sa', '##uda', '##gar']\n",
            "Token IDs:  [137, 48495, 66679, 10381, 95113, 108, 19911, 17181, 84769, 108, 19911, 17181, 49385, 10171, 17480, 10877, 108, 22282, 26660, 10115, 77484, 84284, 14951, 11033, 10703, 108, 31206, 10341, 23486, 96407, 23641, 17224, 13852, 108, 92734, 109641, 17442, 59539, 108, 39429, 58445, 11033, 10703, 108, 170, 10418, 10410, 108, 48495, 10107, 11614, 21087, 177, 10338, 17021, 123, 12590, 10107, 12014, 108, 48495, 12765, 30101, 18206, 58587, 10155, 10148, 21285, 10129, 20194, 10570, 23602, 99772, 10162, 108, 896, 11549, 168, 884, 24667, 168, 888, 102124, 168, 885, 35133, 168, 37444, 168, 888, 12151, 49230, 108, 43024, 25186, 10466, 18497, 14415]\n"
          ]
        }
      ]
    },
    {
      "cell_type": "code",
      "source": [
        "max_len = 0\n",
        "ind = [100,200,300,400,500,512]\n",
        "for i in ind:\n",
        "  count = 0\n",
        "  for tweet in tweets:\n",
        "      max_len = max(max_len, len(tweet))\n",
        "      if len(tweet)>i:\n",
        "        count+=1\n",
        "  print(\"Count of sentence length over {} is: \".format(i), count)\n",
        "print('Max sentence length: ', max_len)"
      ],
      "metadata": {
        "colab": {
          "base_uri": "https://localhost:8080/"
        },
        "id": "EveklSPvpsXy",
        "outputId": "f50f6463-da5a-4bee-b4aa-bd5d33b5a16a"
      },
      "execution_count": null,
      "outputs": [
        {
          "output_type": "stream",
          "name": "stdout",
          "text": [
            "Count of sentence length over 100 is:  3784\n",
            "Count of sentence length over 200 is:  1782\n",
            "Count of sentence length over 300 is:  270\n",
            "Count of sentence length over 400 is:  9\n",
            "Count of sentence length over 500 is:  0\n",
            "Count of sentence length over 512 is:  0\n",
            "Max sentence length:  496\n"
          ]
        }
      ]
    },
    {
      "cell_type": "code",
      "source": [
        "tweets = data.clean_text.values\n",
        "labels = data.label.values"
      ],
      "metadata": {
        "id": "IIjeOyFfxSht"
      },
      "execution_count": null,
      "outputs": []
    },
    {
      "cell_type": "code",
      "source": [
        "input_ids = []\n",
        "attention_masks = []\n",
        "for tweet in tweets:\n",
        "    encoded_dict = tokenizer.encode_plus(\n",
        "                        tweet,                      \n",
        "                        add_special_tokens = True, \n",
        "                        max_length = 512,          \n",
        "                        pad_to_max_length = True,\n",
        "                        return_attention_mask = True,  \n",
        "                        return_tensors = 'pt',  \n",
        "                   )\n",
        "    \n",
        "  \n",
        "    input_ids.append(encoded_dict['input_ids'])\n",
        "    attention_masks.append(encoded_dict['attention_mask'])\n",
        "\n",
        "input_ids = torch.cat(input_ids, dim=0)\n",
        "attention_masks = torch.cat(attention_masks, dim=0)\n",
        "labels = torch.tensor(labels)\n",
        "\n",
        "\n",
        "print('Original: ', tweets[0])\n",
        "print('Token IDs:', input_ids[0])"
      ],
      "metadata": {
        "colab": {
          "base_uri": "https://localhost:8080/"
        },
        "id": "r1GYBHNzpxAO",
        "outputId": "25439573-c3e2-4e60-ee7d-e95061292a7b"
      },
      "execution_count": null,
      "outputs": [
        {
          "output_type": "stream",
          "name": "stderr",
          "text": [
            "/usr/local/lib/python3.10/dist-packages/transformers/tokenization_utils_base.py:2354: FutureWarning: The `pad_to_max_length` argument is deprecated and will be removed in a future version, use `padding=True` or `padding='longest'` to pad to the longest sequence in the batch, or use `padding='max_length'` to pad to a max length. In this case, you can give a specific length with `max_length` (e.g. `max_length=45`) or leave max_length to None to pad to the maximal input size of the model (e.g. 512 for Bert).\n",
            "  warnings.warn(\n"
          ]
        },
        {
          "output_type": "stream",
          "name": "stdout",
          "text": [
            "Original:  #Hindus DYING #HindusLivesMatter #KindAttnPMNarendraModi #coronasecondwaveinindia #ModiMadeDisaster #ResignModi #BJP #RSS LIARS I WARNED 2 YRS BACK #RSSTerrorists BANNED BY SARDAR PATEL IGNORED #शेरनहींभेड़ियापाललियाभक्तो #MautKaSaudagar\n",
            "Token IDs: tensor([   101,    108,  19911,  17181,  84769,    108,  19911,  17181,  49385,\n",
            "         10171,  17480,  10877,    108,  22282,  26660,  10115,  77484,  84284,\n",
            "         14951,  11033,  10703,    108,  31206,  10341,  23486,  96407,  23641,\n",
            "         17224,  13852,    108,  92734, 109641,  17442,  59539,    108,  39429,\n",
            "         58445,  11033,  10703,    108,    170,  10418,  10410,    108,  48495,\n",
            "         10107,  11614,  21087,    177,  10338,  17021,    123,  12590,  10107,\n",
            "         12014,    108,  48495,  12765,  30101,  18206,  58587,  10155,  10148,\n",
            "         21285,  10129,  20194,  10570,  23602,  99772,  10162,    108,    896,\n",
            "         11549,  11453,  24667,  60270, 102124,  42035,  11714,  11714,  21394,\n",
            "         60270,  12151,  49230,    108,  43024,  25186,  10466,  18497,  14415,\n",
            "           102,      0,      0,      0,      0,      0,      0,      0,      0,\n",
            "             0,      0,      0,      0,      0,      0,      0,      0,      0,\n",
            "             0,      0,      0,      0,      0,      0,      0,      0,      0,\n",
            "             0,      0,      0,      0,      0,      0,      0,      0,      0,\n",
            "             0,      0,      0,      0,      0,      0,      0,      0,      0,\n",
            "             0,      0,      0,      0,      0,      0,      0,      0,      0,\n",
            "             0,      0,      0,      0,      0,      0,      0,      0,      0,\n",
            "             0,      0,      0,      0,      0,      0,      0,      0,      0,\n",
            "             0,      0,      0,      0,      0,      0,      0,      0,      0,\n",
            "             0,      0,      0,      0,      0,      0,      0,      0,      0,\n",
            "             0,      0,      0,      0,      0,      0,      0,      0,      0,\n",
            "             0,      0,      0,      0,      0,      0,      0,      0,      0,\n",
            "             0,      0,      0,      0,      0,      0,      0,      0,      0,\n",
            "             0,      0,      0,      0,      0,      0,      0,      0,      0,\n",
            "             0,      0,      0,      0,      0,      0,      0,      0,      0,\n",
            "             0,      0,      0,      0,      0,      0,      0,      0,      0,\n",
            "             0,      0,      0,      0,      0,      0,      0,      0,      0,\n",
            "             0,      0,      0,      0,      0,      0,      0,      0,      0,\n",
            "             0,      0,      0,      0,      0,      0,      0,      0,      0,\n",
            "             0,      0,      0,      0,      0,      0,      0,      0,      0,\n",
            "             0,      0,      0,      0,      0,      0,      0,      0,      0,\n",
            "             0,      0,      0,      0,      0,      0,      0,      0,      0,\n",
            "             0,      0,      0,      0,      0,      0,      0,      0,      0,\n",
            "             0,      0,      0,      0,      0,      0,      0,      0,      0,\n",
            "             0,      0,      0,      0,      0,      0,      0,      0,      0,\n",
            "             0,      0,      0,      0,      0,      0,      0,      0,      0,\n",
            "             0,      0,      0,      0,      0,      0,      0,      0,      0,\n",
            "             0,      0,      0,      0,      0,      0,      0,      0,      0,\n",
            "             0,      0,      0,      0,      0,      0,      0,      0,      0,\n",
            "             0,      0,      0,      0,      0,      0,      0,      0,      0,\n",
            "             0,      0,      0,      0,      0,      0,      0,      0,      0,\n",
            "             0,      0,      0,      0,      0,      0,      0,      0,      0,\n",
            "             0,      0,      0,      0,      0,      0,      0,      0,      0,\n",
            "             0,      0,      0,      0,      0,      0,      0,      0,      0,\n",
            "             0,      0,      0,      0,      0,      0,      0,      0,      0,\n",
            "             0,      0,      0,      0,      0,      0,      0,      0,      0,\n",
            "             0,      0,      0,      0,      0,      0,      0,      0,      0,\n",
            "             0,      0,      0,      0,      0,      0,      0,      0,      0,\n",
            "             0,      0,      0,      0,      0,      0,      0,      0,      0,\n",
            "             0,      0,      0,      0,      0,      0,      0,      0,      0,\n",
            "             0,      0,      0,      0,      0,      0,      0,      0,      0,\n",
            "             0,      0,      0,      0,      0,      0,      0,      0,      0,\n",
            "             0,      0,      0,      0,      0,      0,      0,      0,      0,\n",
            "             0,      0,      0,      0,      0,      0,      0,      0,      0,\n",
            "             0,      0,      0,      0,      0,      0,      0,      0,      0,\n",
            "             0,      0,      0,      0,      0,      0,      0,      0,      0,\n",
            "             0,      0,      0,      0,      0,      0,      0,      0])\n"
          ]
        }
      ]
    },
    {
      "cell_type": "markdown",
      "source": [
        "Dataset"
      ],
      "metadata": {
        "id": "EXK-0KJ2SYdb"
      }
    },
    {
      "cell_type": "code",
      "source": [
        "from torch.utils.data import TensorDataset, random_split\n",
        "\n",
        "dataset = TensorDataset(input_ids, attention_masks, labels)\n",
        "\n",
        "\n",
        "train_size = int(0.9 * len(dataset))\n",
        "val_size = len(dataset) - train_size\n",
        "\n",
        "train_dataset, val_dataset = random_split(dataset, [train_size, val_size],generator=torch.Generator().manual_seed(42))\n",
        "\n",
        "print('{:>5,} training samples'.format(train_size))\n",
        "print('{:>5,} validation samples'.format(val_size))"
      ],
      "metadata": {
        "colab": {
          "base_uri": "https://localhost:8080/"
        },
        "id": "G5es0gI0p9g1",
        "outputId": "63330235-fcbe-4841-d42f-ea4f4381a841"
      },
      "execution_count": null,
      "outputs": [
        {
          "output_type": "stream",
          "name": "stdout",
          "text": [
            "4,134 training samples\n",
            "  460 validation samples\n"
          ]
        }
      ]
    },
    {
      "cell_type": "code",
      "source": [
        "from torch.utils.data import DataLoader, RandomSampler, SequentialSampler"
      ],
      "metadata": {
        "id": "uvExLAbX8NaO"
      },
      "execution_count": null,
      "outputs": []
    },
    {
      "cell_type": "code",
      "source": [
        "from torch.utils.data import DataLoader, RandomSampler, SequentialSampler\n",
        "\n",
        "batch_size = 16\n",
        "\n",
        "train_dataloader = DataLoader(\n",
        "            train_dataset,  \n",
        "            shuffle = True,\n",
        "            batch_size = batch_size \n",
        "        )\n",
        "\n",
        "validation_dataloader = DataLoader(\n",
        "            val_dataset,\n",
        "            shuffle = False,\n",
        "            batch_size = batch_size \n",
        "        )\n",
        "     "
      ],
      "metadata": {
        "id": "QkXrmSxQqDP5"
      },
      "execution_count": null,
      "outputs": []
    },
    {
      "cell_type": "code",
      "source": [
        "def format_time(elapsed):\n",
        "    elapsed_rounded = int(round((elapsed)))\n",
        "    return str(datetime.timedelta(seconds=elapsed_rounded))"
      ],
      "metadata": {
        "id": "HYkNmcfbqGYs"
      },
      "execution_count": null,
      "outputs": []
    },
    {
      "cell_type": "markdown",
      "source": [
        "Model"
      ],
      "metadata": {
        "id": "qeZNtJUTSdm4"
      }
    },
    {
      "cell_type": "code",
      "source": [
        "from transformers import BertForSequenceClassification, AdamW, BertConfig\n",
        "model = BertForSequenceClassification.from_pretrained(\n",
        "    'bert-base-multilingual-cased',\n",
        "    num_labels = 2, \n",
        "    output_attentions = False, \n",
        "    output_hidden_states = False,\n",
        ")\n",
        "model.to(device)"
      ],
      "metadata": {
        "colab": {
          "base_uri": "https://localhost:8080/",
          "height": 974,
          "referenced_widgets": [
            "6f4adc0e19014064b9995cb3260703f9",
            "bece6dbf536942b1965b37a96a7db53d",
            "b96a2b8f4570474e9cfea3758dfc4d1a",
            "218e1cc446244997b3192d061b52252a",
            "30d8d910cfac43779409a168788d2684",
            "ec741cdd34134003bfab74e1765cb353",
            "248ecf2478c943ed8c1d4c13508bb46a",
            "86e06408aa744902aa2916d3582d7448",
            "ed83fa3558b940a7935a02665552a1e3",
            "89b50d8e5c634fb49781d3260123841f",
            "c77144c58de5464f88691702e66bb195"
          ]
        },
        "id": "WQFA7X3LqQRx",
        "outputId": "f97737c3-9f23-4d79-f52c-7004d6560d44"
      },
      "execution_count": null,
      "outputs": [
        {
          "output_type": "display_data",
          "data": {
            "text/plain": [
              "Downloading pytorch_model.bin:   0%|          | 0.00/714M [00:00<?, ?B/s]"
            ],
            "application/vnd.jupyter.widget-view+json": {
              "version_major": 2,
              "version_minor": 0,
              "model_id": "6f4adc0e19014064b9995cb3260703f9"
            }
          },
          "metadata": {}
        },
        {
          "output_type": "stream",
          "name": "stderr",
          "text": [
            "Some weights of the model checkpoint at bert-base-multilingual-cased were not used when initializing BertForSequenceClassification: ['cls.predictions.transform.dense.bias', 'cls.seq_relationship.bias', 'cls.predictions.decoder.weight', 'cls.seq_relationship.weight', 'cls.predictions.bias', 'cls.predictions.transform.LayerNorm.weight', 'cls.predictions.transform.LayerNorm.bias', 'cls.predictions.transform.dense.weight']\n",
            "- This IS expected if you are initializing BertForSequenceClassification from the checkpoint of a model trained on another task or with another architecture (e.g. initializing a BertForSequenceClassification model from a BertForPreTraining model).\n",
            "- This IS NOT expected if you are initializing BertForSequenceClassification from the checkpoint of a model that you expect to be exactly identical (initializing a BertForSequenceClassification model from a BertForSequenceClassification model).\n",
            "Some weights of BertForSequenceClassification were not initialized from the model checkpoint at bert-base-multilingual-cased and are newly initialized: ['classifier.weight', 'classifier.bias']\n",
            "You should probably TRAIN this model on a down-stream task to be able to use it for predictions and inference.\n"
          ]
        },
        {
          "output_type": "execute_result",
          "data": {
            "text/plain": [
              "BertForSequenceClassification(\n",
              "  (bert): BertModel(\n",
              "    (embeddings): BertEmbeddings(\n",
              "      (word_embeddings): Embedding(119547, 768, padding_idx=0)\n",
              "      (position_embeddings): Embedding(512, 768)\n",
              "      (token_type_embeddings): Embedding(2, 768)\n",
              "      (LayerNorm): LayerNorm((768,), eps=1e-12, elementwise_affine=True)\n",
              "      (dropout): Dropout(p=0.1, inplace=False)\n",
              "    )\n",
              "    (encoder): BertEncoder(\n",
              "      (layer): ModuleList(\n",
              "        (0-11): 12 x BertLayer(\n",
              "          (attention): BertAttention(\n",
              "            (self): BertSelfAttention(\n",
              "              (query): Linear(in_features=768, out_features=768, bias=True)\n",
              "              (key): Linear(in_features=768, out_features=768, bias=True)\n",
              "              (value): Linear(in_features=768, out_features=768, bias=True)\n",
              "              (dropout): Dropout(p=0.1, inplace=False)\n",
              "            )\n",
              "            (output): BertSelfOutput(\n",
              "              (dense): Linear(in_features=768, out_features=768, bias=True)\n",
              "              (LayerNorm): LayerNorm((768,), eps=1e-12, elementwise_affine=True)\n",
              "              (dropout): Dropout(p=0.1, inplace=False)\n",
              "            )\n",
              "          )\n",
              "          (intermediate): BertIntermediate(\n",
              "            (dense): Linear(in_features=768, out_features=3072, bias=True)\n",
              "            (intermediate_act_fn): GELUActivation()\n",
              "          )\n",
              "          (output): BertOutput(\n",
              "            (dense): Linear(in_features=3072, out_features=768, bias=True)\n",
              "            (LayerNorm): LayerNorm((768,), eps=1e-12, elementwise_affine=True)\n",
              "            (dropout): Dropout(p=0.1, inplace=False)\n",
              "          )\n",
              "        )\n",
              "      )\n",
              "    )\n",
              "    (pooler): BertPooler(\n",
              "      (dense): Linear(in_features=768, out_features=768, bias=True)\n",
              "      (activation): Tanh()\n",
              "    )\n",
              "  )\n",
              "  (dropout): Dropout(p=0.1, inplace=False)\n",
              "  (classifier): Linear(in_features=768, out_features=2, bias=True)\n",
              ")"
            ]
          },
          "metadata": {},
          "execution_count": 92
        }
      ]
    },
    {
      "cell_type": "code",
      "source": [
        "optimizer = AdamW(model.parameters(),\n",
        "                  lr = 5e-5, \n",
        "                  eps = 1e-8 \n",
        "                )\n",
        "epochs = 4\n",
        "criterion = nn.CrossEntropyLoss()"
      ],
      "metadata": {
        "colab": {
          "base_uri": "https://localhost:8080/"
        },
        "id": "qe1FCjb8qc-T",
        "outputId": "07fefd2a-a8c5-424a-bf57-c054d0d0de9f"
      },
      "execution_count": null,
      "outputs": [
        {
          "output_type": "stream",
          "name": "stderr",
          "text": [
            "/usr/local/lib/python3.10/dist-packages/transformers/optimization.py:391: FutureWarning: This implementation of AdamW is deprecated and will be removed in a future version. Use the PyTorch implementation torch.optim.AdamW instead, or set `no_deprecation_warning=True` to disable this warning\n",
            "  warnings.warn(\n"
          ]
        }
      ]
    },
    {
      "cell_type": "code",
      "execution_count": null,
      "metadata": {
        "id": "mqITXlzIlYf5"
      },
      "outputs": [],
      "source": [
        "PATH1 = \"/content/drive/MyDrive/HasocDataset/Models/hindi_model_bert.pt\"\n",
        "the_best_model = torch.load(PATH1,map_location='cpu')"
      ]
    },
    {
      "cell_type": "markdown",
      "source": [
        "BERTCNN"
      ],
      "metadata": {
        "id": "1TJeSivnShzm"
      }
    },
    {
      "cell_type": "code",
      "source": [
        "class BertCNNClassifier(nn.Module):\n",
        "    def __init__(self, tuned_model, embed_num = 512, embed_dim = 768, dropout=0.1, kernel_num=3, kernel_sizes=[1,2], num_labels=2):\n",
        "        super().__init__()\n",
        "        self.num_labels = num_labels\n",
        "        self.embed_num = embed_num\n",
        "        self.embed_dim = embed_dim\n",
        "        self.dropout = dropout\n",
        "        self.kernel_num = kernel_num\n",
        "        self.kernel_sizes = kernel_sizes\n",
        "        self.softmax = nn.functional.softmax\n",
        "\n",
        "        self.bert = tuned_model.bert\n",
        "        self.convs = nn.ModuleList([nn.Conv2d(1, self.kernel_num, (k, self.embed_dim)) for k in self.kernel_sizes])\n",
        "        self.dropout = nn.Dropout(self.dropout)\n",
        "        self.classifier = nn.Linear(len(self.kernel_sizes)*self.kernel_num, self.num_labels)\n",
        "        \n",
        "    def forward(self, input_ids, attention_mask, token_type_ids = None):\n",
        "        output = self.bert(input_ids = input_ids, attention_mask = attention_mask, token_type_ids = token_type_ids) #16,512,768\n",
        "        output = output[0].unsqueeze(1) #16,1,512,768\n",
        "        output = [nn.functional.relu(conv(output)).squeeze(3) for conv in self.convs] #16,3,508,1 => #16,3,508\n",
        "        output = [nn.functional.max_pool1d(i, i.size(2)).squeeze(2) for i in output] #=> 16,3\n",
        "        output = torch.cat(output, 1)\n",
        "        output = self.dropout(output)\n",
        "        logits = self.classifier(output)\n",
        "        return self.softmax(logits, 1)"
      ],
      "metadata": {
        "id": "E324YFgHlkk2"
      },
      "execution_count": null,
      "outputs": []
    },
    {
      "cell_type": "code",
      "source": [
        "# Initializing model\n",
        "model2 = BertCNNClassifier(the_best_model).cuda()\n",
        "# set parameters\n",
        "epochs = 4\n",
        "learning_rate = 5e-5\n",
        "optimizer = AdamW(model2.parameters(), lr = learning_rate)\n",
        "criterion = nn.CrossEntropyLoss()"
      ],
      "metadata": {
        "colab": {
          "base_uri": "https://localhost:8080/"
        },
        "id": "7MmGcnIGmXpb",
        "outputId": "76b13f08-c117-449f-ee44-04cd5b205f73"
      },
      "execution_count": null,
      "outputs": [
        {
          "output_type": "stream",
          "name": "stderr",
          "text": [
            "/usr/local/lib/python3.10/dist-packages/transformers/optimization.py:391: FutureWarning: This implementation of AdamW is deprecated and will be removed in a future version. Use the PyTorch implementation torch.optim.AdamW instead, or set `no_deprecation_warning=True` to disable this warning\n",
            "  warnings.warn(\n"
          ]
        }
      ]
    },
    {
      "cell_type": "code",
      "source": [
        "import random\n",
        "import numpy as np\n",
        "\n",
        "seed_val = 42\n",
        "\n",
        "random.seed(seed_val)\n",
        "torch.manual_seed(seed_val)\n",
        "torch.cuda.manual_seed_all(seed_val)\n",
        "\n",
        "training_stats = []\n",
        "total_t0 = time.time()\n",
        "best_accuracy = 0\n",
        "for epoch_i in range(0, epochs):\n",
        "    #Training\n",
        "    print(\"\")\n",
        "    print('Epoch {:} / {:}'.format(epoch_i + 1, epochs))\n",
        "    print('Training...')\n",
        "\n",
        "    t0 = time.time()\n",
        "    total_train_loss = 0\n",
        "    total_train_accuracy = 0\n",
        "    model2.train()\n",
        "    for step, batch in enumerate(train_dataloader):\n",
        "\n",
        "        input_ids = batch[0].to(device)\n",
        "        input_mask = batch[1].to(device)\n",
        "        labels = batch[2].to(device)\n",
        "\n",
        "        model2.zero_grad()        \n",
        "        out = model2(input_ids = input_ids, attention_mask = input_mask, token_type_ids = None)\n",
        "        loss = criterion(out, labels)\n",
        "        total_train_loss += loss.item()\n",
        "\n",
        "        loss.backward()\n",
        "        torch.nn.utils.clip_grad_norm_(model2.parameters(), 1.0)\n",
        "        optimizer.step()\n",
        "\n",
        "        pred = torch.argmax(out, dim = 1)\n",
        "        total_train_accuracy +=  torch.sum(pred == labels).item()\n",
        "\n",
        "    avg_train_accuracy = total_train_accuracy / len(train_dataloader.dataset)\n",
        "    avg_train_loss = total_train_loss / len(train_dataloader.dataset)            \n",
        "    print(\"  Accuracy: {}\".format(avg_train_accuracy))\n",
        "    print(\"  Training loss: {}\".format(avg_train_loss))\n",
        "        \n",
        "    # Validation\n",
        "    print(\"\")\n",
        "    print(\"Validation...\")\n",
        "    model2.eval()\n",
        "    total_eval_accuracy = 0\n",
        "    total_eval_loss = 0\n",
        "    y_true = []\n",
        "    y_pred = []\n",
        "\n",
        "    for batch in validation_dataloader:\n",
        "        input_ids = batch[0].to(device)\n",
        "        input_mask = batch[1].to(device)\n",
        "        labels = batch[2].to(device)\n",
        "        \n",
        "        with torch.no_grad():        \n",
        "            out = model2(input_ids = input_ids, attention_mask = input_mask, token_type_ids = None)\n",
        "        loss = criterion(out, labels)\n",
        "        total_eval_loss += loss.item()\n",
        "        pred = torch.argmax(out, dim = 1)\n",
        "        total_eval_accuracy += torch.sum(pred == labels).item()\n",
        "        y_true.append(labels.flatten())\n",
        "        y_pred.append(pred.flatten())\n",
        "        \n",
        "    avg_val_accuracy = total_eval_accuracy / len(validation_dataloader.dataset)\n",
        "    print(\"  Accuracy: {}\".format(avg_val_accuracy))\n",
        "    avg_val_loss = total_eval_loss / len(validation_dataloader.dataset)\n",
        "    print(\"  Validation loss: {}\".format(avg_val_loss))\n",
        "    training_time = format_time(time.time() - t0)\n",
        "    print(\"  This epoch took: {:}\".format(training_time))\n",
        "    print()\n",
        "    y_true = torch.cat(y_true).tolist()\n",
        "    y_pred = torch.cat(y_pred).tolist()\n",
        "    print('  roc_auc score: ', roc_auc_score(y_true,y_pred))\n",
        "    print('  F1 score:',f1_score(y_true, y_pred))\n",
        "\n",
        "\n",
        "    training_stats.append(\n",
        "        {\n",
        "            'epoch': epoch_i + 1,\n",
        "            'Train Accur.': avg_train_accuracy,\n",
        "            'Training Loss': avg_train_loss,\n",
        "            'Valid. Loss': avg_val_loss,\n",
        "            'Valid. Accur.': avg_val_accuracy,\n",
        "            'Training Time': training_time,\n",
        "        }\n",
        "    )\n",
        "\n",
        "    if avg_val_accuracy > best_accuracy:\n",
        "        best_accuracy = avg_val_accuracy\n",
        "        best_model = model2\n",
        "\n",
        "print(\"===\")\n",
        "print(\"Summary\")\n",
        "print(\"Total time {:} (h:mm:ss)\".format(format_time(time.time()-total_t0)))\n",
        "print('best acc:',best_accuracy)"
      ],
      "metadata": {
        "colab": {
          "base_uri": "https://localhost:8080/"
        },
        "id": "1VuadUzrmXmc",
        "outputId": "ee111b2e-7775-4f63-be4b-d32b83174bbb"
      },
      "execution_count": null,
      "outputs": [
        {
          "output_type": "stream",
          "name": "stdout",
          "text": [
            "\n",
            "Epoch 1 / 4\n",
            "Training...\n",
            "  Accuracy: 0.6862602805999033\n",
            "  Training loss: 0.040438274282963885\n",
            "\n",
            "Validation...\n",
            "  Accuracy: 0.7043478260869566\n",
            "  Validation loss: 0.040325025371883226\n",
            "  This epoch took: 0:06:07\n",
            "\n",
            "  roc_auc score:  0.5\n",
            "  F1 score: 0.826530612244898\n",
            "\n",
            "Epoch 2 / 4\n",
            "Training...\n",
            "  Accuracy: 0.6862602805999033\n",
            "  Training loss: 0.04044798583181572\n",
            "\n",
            "Validation...\n",
            "  Accuracy: 0.7043478260869566\n",
            "  Validation loss: 0.040325025371883226\n",
            "  This epoch took: 0:06:08\n",
            "\n",
            "  roc_auc score:  0.5\n",
            "  F1 score: 0.826530612244898\n",
            "\n",
            "Epoch 3 / 4\n",
            "Training...\n",
            "  Accuracy: 0.6862602805999033\n",
            "  Training loss: 0.04044313705019404\n",
            "\n",
            "Validation...\n",
            "  Accuracy: 0.7043478260869566\n",
            "  Validation loss: 0.040325025371883226\n",
            "  This epoch took: 0:06:08\n",
            "\n",
            "  roc_auc score:  0.5\n",
            "  F1 score: 0.826530612244898\n",
            "\n",
            "Epoch 4 / 4\n",
            "Training...\n",
            "  Accuracy: 0.6862602805999033\n",
            "  Training loss: 0.040427179413252426\n",
            "\n",
            "Validation...\n",
            "  Accuracy: 0.7043478260869566\n",
            "  Validation loss: 0.040325025371883226\n",
            "  This epoch took: 0:06:07\n",
            "\n",
            "  roc_auc score:  0.5\n",
            "  F1 score: 0.826530612244898\n",
            "===\n",
            "Summary\n",
            "Total time 0:24:30 (h:mm:ss)\n",
            "best acc: 0.7043478260869566\n"
          ]
        }
      ]
    },
    {
      "cell_type": "code",
      "source": [
        "train1 = pd.read_csv('/content/drive/MyDrive/HasocDataset/hindi_2021.csv')\n",
        "train1.head()"
      ],
      "metadata": {
        "colab": {
          "base_uri": "https://localhost:8080/",
          "height": 206
        },
        "id": "xeO-SdKD6jmm",
        "outputId": "bdb65065-5bea-41cd-9b35-2591e4dc742f"
      },
      "execution_count": null,
      "outputs": [
        {
          "output_type": "execute_result",
          "data": {
            "text/plain": [
              "   Unnamed: 0                       _id            tweet_id  \\\n",
              "0         998  60c5d7495659ea5e55df0b7b   hi_hasoc_2021_998   \n",
              "1        4049  60c5d7495659ea5e55df1b73  hi_hasoc_2021_4049   \n",
              "2        1757  60c5d7495659ea5e55df0d1b  hi_hasoc_2021_1757   \n",
              "3        5175  60c5d7495659ea5e55df0e45  hi_hasoc_2021_5178   \n",
              "4        1825  60c5d7495659ea5e55df0ee1  hi_hasoc_2021_1825   \n",
              "\n",
              "                                                text task_1 task_2  \n",
              "0  @rssurjewala #Hindus DYING #HindusLivesMatter ...    NOT   NONE  \n",
              "1  सब लोग इतने पैसे डोनेट ही कर रहे हैं फिर भी आम...    NOT   NONE  \n",
              "2  शेर-ए- सिवान शहाबुद्दीन साहब से रिश्ता क्या  ل...    NOT   NONE  \n",
              "3         @AskAnshul आसमानी किताब के नाजायज औलाद है।    HOF   OFFN  \n",
              "4  @Shikha0222 इसे कहते हैं दोगला पंती जिस सपा की...    NOT   NONE  "
            ],
            "text/html": [
              "\n",
              "  <div id=\"df-d7c53a52-fd38-40b9-bac4-8f3fae211286\">\n",
              "    <div class=\"colab-df-container\">\n",
              "      <div>\n",
              "<style scoped>\n",
              "    .dataframe tbody tr th:only-of-type {\n",
              "        vertical-align: middle;\n",
              "    }\n",
              "\n",
              "    .dataframe tbody tr th {\n",
              "        vertical-align: top;\n",
              "    }\n",
              "\n",
              "    .dataframe thead th {\n",
              "        text-align: right;\n",
              "    }\n",
              "</style>\n",
              "<table border=\"1\" class=\"dataframe\">\n",
              "  <thead>\n",
              "    <tr style=\"text-align: right;\">\n",
              "      <th></th>\n",
              "      <th>Unnamed: 0</th>\n",
              "      <th>_id</th>\n",
              "      <th>tweet_id</th>\n",
              "      <th>text</th>\n",
              "      <th>task_1</th>\n",
              "      <th>task_2</th>\n",
              "    </tr>\n",
              "  </thead>\n",
              "  <tbody>\n",
              "    <tr>\n",
              "      <th>0</th>\n",
              "      <td>998</td>\n",
              "      <td>60c5d7495659ea5e55df0b7b</td>\n",
              "      <td>hi_hasoc_2021_998</td>\n",
              "      <td>@rssurjewala #Hindus DYING #HindusLivesMatter ...</td>\n",
              "      <td>NOT</td>\n",
              "      <td>NONE</td>\n",
              "    </tr>\n",
              "    <tr>\n",
              "      <th>1</th>\n",
              "      <td>4049</td>\n",
              "      <td>60c5d7495659ea5e55df1b73</td>\n",
              "      <td>hi_hasoc_2021_4049</td>\n",
              "      <td>सब लोग इतने पैसे डोनेट ही कर रहे हैं फिर भी आम...</td>\n",
              "      <td>NOT</td>\n",
              "      <td>NONE</td>\n",
              "    </tr>\n",
              "    <tr>\n",
              "      <th>2</th>\n",
              "      <td>1757</td>\n",
              "      <td>60c5d7495659ea5e55df0d1b</td>\n",
              "      <td>hi_hasoc_2021_1757</td>\n",
              "      <td>शेर-ए- सिवान शहाबुद्दीन साहब से रिश्ता क्या  ل...</td>\n",
              "      <td>NOT</td>\n",
              "      <td>NONE</td>\n",
              "    </tr>\n",
              "    <tr>\n",
              "      <th>3</th>\n",
              "      <td>5175</td>\n",
              "      <td>60c5d7495659ea5e55df0e45</td>\n",
              "      <td>hi_hasoc_2021_5178</td>\n",
              "      <td>@AskAnshul आसमानी किताब के नाजायज औलाद है।</td>\n",
              "      <td>HOF</td>\n",
              "      <td>OFFN</td>\n",
              "    </tr>\n",
              "    <tr>\n",
              "      <th>4</th>\n",
              "      <td>1825</td>\n",
              "      <td>60c5d7495659ea5e55df0ee1</td>\n",
              "      <td>hi_hasoc_2021_1825</td>\n",
              "      <td>@Shikha0222 इसे कहते हैं दोगला पंती जिस सपा की...</td>\n",
              "      <td>NOT</td>\n",
              "      <td>NONE</td>\n",
              "    </tr>\n",
              "  </tbody>\n",
              "</table>\n",
              "</div>\n",
              "      <button class=\"colab-df-convert\" onclick=\"convertToInteractive('df-d7c53a52-fd38-40b9-bac4-8f3fae211286')\"\n",
              "              title=\"Convert this dataframe to an interactive table.\"\n",
              "              style=\"display:none;\">\n",
              "        \n",
              "  <svg xmlns=\"http://www.w3.org/2000/svg\" height=\"24px\"viewBox=\"0 0 24 24\"\n",
              "       width=\"24px\">\n",
              "    <path d=\"M0 0h24v24H0V0z\" fill=\"none\"/>\n",
              "    <path d=\"M18.56 5.44l.94 2.06.94-2.06 2.06-.94-2.06-.94-.94-2.06-.94 2.06-2.06.94zm-11 1L8.5 8.5l.94-2.06 2.06-.94-2.06-.94L8.5 2.5l-.94 2.06-2.06.94zm10 10l.94 2.06.94-2.06 2.06-.94-2.06-.94-.94-2.06-.94 2.06-2.06.94z\"/><path d=\"M17.41 7.96l-1.37-1.37c-.4-.4-.92-.59-1.43-.59-.52 0-1.04.2-1.43.59L10.3 9.45l-7.72 7.72c-.78.78-.78 2.05 0 2.83L4 21.41c.39.39.9.59 1.41.59.51 0 1.02-.2 1.41-.59l7.78-7.78 2.81-2.81c.8-.78.8-2.07 0-2.86zM5.41 20L4 18.59l7.72-7.72 1.47 1.35L5.41 20z\"/>\n",
              "  </svg>\n",
              "      </button>\n",
              "      \n",
              "  <style>\n",
              "    .colab-df-container {\n",
              "      display:flex;\n",
              "      flex-wrap:wrap;\n",
              "      gap: 12px;\n",
              "    }\n",
              "\n",
              "    .colab-df-convert {\n",
              "      background-color: #E8F0FE;\n",
              "      border: none;\n",
              "      border-radius: 50%;\n",
              "      cursor: pointer;\n",
              "      display: none;\n",
              "      fill: #1967D2;\n",
              "      height: 32px;\n",
              "      padding: 0 0 0 0;\n",
              "      width: 32px;\n",
              "    }\n",
              "\n",
              "    .colab-df-convert:hover {\n",
              "      background-color: #E2EBFA;\n",
              "      box-shadow: 0px 1px 2px rgba(60, 64, 67, 0.3), 0px 1px 3px 1px rgba(60, 64, 67, 0.15);\n",
              "      fill: #174EA6;\n",
              "    }\n",
              "\n",
              "    [theme=dark] .colab-df-convert {\n",
              "      background-color: #3B4455;\n",
              "      fill: #D2E3FC;\n",
              "    }\n",
              "\n",
              "    [theme=dark] .colab-df-convert:hover {\n",
              "      background-color: #434B5C;\n",
              "      box-shadow: 0px 1px 3px 1px rgba(0, 0, 0, 0.15);\n",
              "      filter: drop-shadow(0px 1px 2px rgba(0, 0, 0, 0.3));\n",
              "      fill: #FFFFFF;\n",
              "    }\n",
              "  </style>\n",
              "\n",
              "      <script>\n",
              "        const buttonEl =\n",
              "          document.querySelector('#df-d7c53a52-fd38-40b9-bac4-8f3fae211286 button.colab-df-convert');\n",
              "        buttonEl.style.display =\n",
              "          google.colab.kernel.accessAllowed ? 'block' : 'none';\n",
              "\n",
              "        async function convertToInteractive(key) {\n",
              "          const element = document.querySelector('#df-d7c53a52-fd38-40b9-bac4-8f3fae211286');\n",
              "          const dataTable =\n",
              "            await google.colab.kernel.invokeFunction('convertToInteractive',\n",
              "                                                     [key], {});\n",
              "          if (!dataTable) return;\n",
              "\n",
              "          const docLinkHtml = 'Like what you see? Visit the ' +\n",
              "            '<a target=\"_blank\" href=https://colab.research.google.com/notebooks/data_table.ipynb>data table notebook</a>'\n",
              "            + ' to learn more about interactive tables.';\n",
              "          element.innerHTML = '';\n",
              "          dataTable['output_type'] = 'display_data';\n",
              "          await google.colab.output.renderOutput(dataTable, element);\n",
              "          const docLink = document.createElement('div');\n",
              "          docLink.innerHTML = docLinkHtml;\n",
              "          element.appendChild(docLink);\n",
              "        }\n",
              "      </script>\n",
              "    </div>\n",
              "  </div>\n",
              "  "
            ]
          },
          "metadata": {},
          "execution_count": 6
        }
      ]
    },
    {
      "cell_type": "code",
      "source": [
        "train1[\"label\"] = train1[\"task_1\"].map({\"HOF\": 0, \"NOT\": 1})\n",
        "train1.head"
      ],
      "metadata": {
        "id": "TZDR-EwJ7YjL"
      },
      "execution_count": null,
      "outputs": []
    },
    {
      "cell_type": "code",
      "source": [
        "tests = train1.text.values\n",
        "labels = train1.label.values"
      ],
      "metadata": {
        "id": "yBFA4Caw6hbF"
      },
      "execution_count": null,
      "outputs": []
    },
    {
      "cell_type": "code",
      "source": [
        "input_ids = []\n",
        "attention_masks = []\n",
        "for tweet in tests:\n",
        "    encoded_dict = tokenizer.encode_plus(\n",
        "                        tweet,               \n",
        "                        add_special_tokens = True, \n",
        "                        max_length = 512,           \n",
        "                        pad_to_max_length = True,\n",
        "                        return_attention_mask = True,  \n",
        "                        return_tensors = 'pt',    \n",
        "                   )\n",
        "    \n",
        "    input_ids.append(encoded_dict['input_ids'])\n",
        "    attention_masks.append(encoded_dict['attention_mask'])\n",
        "\n",
        "# Convert the lists into tensors.\n",
        "input_ids = torch.cat(input_ids, dim=0)\n",
        "attention_masks = torch.cat(attention_masks, dim=0)\n",
        "labels = torch.tensor(labels)\n",
        "\n",
        "print('Original: ', tests[0])\n",
        "print('Token IDs:', input_ids[0])"
      ],
      "metadata": {
        "id": "kOS46rU86Bq5"
      },
      "execution_count": null,
      "outputs": []
    },
    {
      "cell_type": "code",
      "source": [
        "PATH2 = \"/content/drive/MyDrive/HasocDataset/Models/hindi_bertCnn.pt\"\n",
        "torch.save(model2, PATH2)"
      ],
      "metadata": {
        "id": "5GZwKBnSmXj1"
      },
      "execution_count": null,
      "outputs": []
    },
    {
      "cell_type": "code",
      "source": [
        "from torch.utils.data import TensorDataset, random_split\n",
        "\n",
        "dataset = TensorDataset(input_ids, attention_masks, labels)\n",
        "\n",
        "t_size = int(0.8 * len(dataset))\n",
        "test_size = len(dataset) - t_size\n",
        "\n",
        "t_dataset, test_dataset = random_split(dataset, [t_size, test_size],generator=torch.Generator().manual_seed(42))\n",
        "# df_train, df_val, df_test = np.split(df.sample(frac=1, random_state=42), \n",
        "#                                      [int(.8*len(df)), int(.9*len(df))])\n",
        "\n",
        "print('{:>5,} training samples'.format(t_size))\n",
        "print('{:>5,} test samples'.format(test_size))"
      ],
      "metadata": {
        "colab": {
          "base_uri": "https://localhost:8080/"
        },
        "id": "WiEKvD4_5kR0",
        "outputId": "f26fa953-f1c0-4885-d78f-32a97be2d6cb"
      },
      "execution_count": null,
      "outputs": [
        {
          "output_type": "stream",
          "name": "stdout",
          "text": [
            "3,675 training samples\n",
            "  919 validation samples\n"
          ]
        }
      ]
    },
    {
      "cell_type": "code",
      "source": [
        "test_loader = DataLoader(\n",
        "            test_dataset,  \n",
        "            shuffle = True,\n",
        "            batch_size = 16\n",
        "        )"
      ],
      "metadata": {
        "id": "kDM2J62f5R4K"
      },
      "execution_count": null,
      "outputs": []
    },
    {
      "cell_type": "code",
      "source": [
        "from sklearn.metrics import confusion_matrix, f1_score, classification_report,accuracy_score"
      ],
      "metadata": {
        "id": "NYLSsfU78bwq"
      },
      "execution_count": null,
      "outputs": []
    },
    {
      "cell_type": "code",
      "source": [
        "def compute_accuracy(preds,labels):\n",
        "  preds = preds.detach().cpu().numpy()\n",
        "  labels = labels.detach().cpu().numpy()\n",
        "  preds = np.argmax(preds,axis=1).flatten()\n",
        "  labels = labels.flatten()\n",
        "  return np.sum(preds == labels)/len(labels)"
      ],
      "metadata": {
        "id": "MxEZaNbZ8huH"
      },
      "execution_count": null,
      "outputs": []
    },
    {
      "cell_type": "code",
      "source": [
        "epochs = 4\n",
        "learning_rate = 5e-5\n",
        "optimizer = AdamW(bertCNNModel.parameters(), lr = learning_rate)\n",
        "criterion = nn.CrossEntropyLoss()"
      ],
      "metadata": {
        "colab": {
          "base_uri": "https://localhost:8080/"
        },
        "id": "BAsqu3rbAvq1",
        "outputId": "1dd12757-2d76-4c2b-e0b0-253968b22ae5"
      },
      "execution_count": null,
      "outputs": [
        {
          "output_type": "stream",
          "name": "stderr",
          "text": [
            "/usr/local/lib/python3.10/dist-packages/transformers/optimization.py:391: FutureWarning: This implementation of AdamW is deprecated and will be removed in a future version. Use the PyTorch implementation torch.optim.AdamW instead, or set `no_deprecation_warning=True` to disable this warning\n",
            "  warnings.warn(\n"
          ]
        }
      ]
    },
    {
      "cell_type": "code",
      "source": [
        "test_stats = []\n",
        "best_accuracy = 0\n",
        "\n",
        "total_loss = 0\n",
        "total_accuracy = 0\n",
        "bertCNNModel.train()\n",
        "y_true = []\n",
        "y_pred = []\n",
        "true_labels = []\n",
        "predictions = []\n",
        "count = 0\n",
        "for step,batch in enumerate(test_loader):\n",
        "  # if step%50 == 0 and not step == 0:\n",
        "    # print('  Batch {:>5,}  of  {:>5,}.'.format(step, len(test_loader)))\n",
        "  input_ids = batch[0].to(device)\n",
        "  input_mask = batch[1].to(device)\n",
        "  labels = batch[2].to(device)\n",
        "\n",
        "  with torch.no_grad():        \n",
        "      out = bertCNNModel(input_ids = input_ids, attention_mask = input_mask, token_type_ids = None)\n",
        "  loss = criterion(out, labels)\n",
        "  total_loss += loss.item()\n",
        "  pred = torch.argmax(out, dim = 1)\n",
        "  total_accuracy += torch.sum(pred == labels).item()\n",
        "  y_true.append(labels.flatten())\n",
        "  y_pred.append(pred.flatten())\n",
        "    # macro_f1_score =  classification_report(true_labels, predictions,output_dict=True)['macro avg']['f1-score']\n",
        "print(len(test_loader.dataset))\n",
        "avg_val_accuracy = total_accuracy / len(test_loader.dataset)\n",
        "print(\"  Accuracy: {}\".format(avg_val_accuracy))\n",
        "avg_val_loss = total_loss / len(test_loader.dataset)\n",
        "y_true = torch.cat(y_true).tolist()\n",
        "y_pred = torch.cat(y_pred).tolist()\n",
        "print('  roc_auc score: ', roc_auc_score(y_true,y_pred))\n",
        "print('  F1 score:',f1_score(y_true, y_pred))\n",
        "\n"
      ],
      "metadata": {
        "colab": {
          "base_uri": "https://localhost:8080/"
        },
        "id": "VbLzKuZy48kl",
        "outputId": "0bd01680-896e-4b38-9cea-32f647ede513"
      },
      "execution_count": null,
      "outputs": [
        {
          "output_type": "stream",
          "name": "stdout",
          "text": [
            "919\n",
            "  Accuracy: 0.6931447225244831\n",
            "  roc_auc score:  0.5\n",
            "  F1 score: 0.8187660668380463\n"
          ]
        }
      ]
    },
    {
      "cell_type": "code",
      "source": [
        "PATH4 = \"/content/drive/MyDrive/HasocDataset/Models/hindi_bertCnn.pt\"\n",
        "bertCNNModel = torch.load(PATH4,map_location='cpu')"
      ],
      "metadata": {
        "id": "l360yzoM8r9U"
      },
      "execution_count": null,
      "outputs": []
    },
    {
      "cell_type": "code",
      "source": [
        "bertCNNModel.to('cuda')"
      ],
      "metadata": {
        "colab": {
          "base_uri": "https://localhost:8080/"
        },
        "id": "SKy3dDrJ-6Fr",
        "outputId": "d6943d24-8918-48fe-e8d8-539286a38234"
      },
      "execution_count": null,
      "outputs": [
        {
          "output_type": "execute_result",
          "data": {
            "text/plain": [
              "BertCNNClassifier(\n",
              "  (bert): BertModel(\n",
              "    (embeddings): BertEmbeddings(\n",
              "      (word_embeddings): Embedding(119547, 768, padding_idx=0)\n",
              "      (position_embeddings): Embedding(512, 768)\n",
              "      (token_type_embeddings): Embedding(2, 768)\n",
              "      (LayerNorm): LayerNorm((768,), eps=1e-12, elementwise_affine=True)\n",
              "      (dropout): Dropout(p=0.1, inplace=False)\n",
              "    )\n",
              "    (encoder): BertEncoder(\n",
              "      (layer): ModuleList(\n",
              "        (0-11): 12 x BertLayer(\n",
              "          (attention): BertAttention(\n",
              "            (self): BertSelfAttention(\n",
              "              (query): Linear(in_features=768, out_features=768, bias=True)\n",
              "              (key): Linear(in_features=768, out_features=768, bias=True)\n",
              "              (value): Linear(in_features=768, out_features=768, bias=True)\n",
              "              (dropout): Dropout(p=0.1, inplace=False)\n",
              "            )\n",
              "            (output): BertSelfOutput(\n",
              "              (dense): Linear(in_features=768, out_features=768, bias=True)\n",
              "              (LayerNorm): LayerNorm((768,), eps=1e-12, elementwise_affine=True)\n",
              "              (dropout): Dropout(p=0.1, inplace=False)\n",
              "            )\n",
              "          )\n",
              "          (intermediate): BertIntermediate(\n",
              "            (dense): Linear(in_features=768, out_features=3072, bias=True)\n",
              "            (intermediate_act_fn): GELUActivation()\n",
              "          )\n",
              "          (output): BertOutput(\n",
              "            (dense): Linear(in_features=3072, out_features=768, bias=True)\n",
              "            (LayerNorm): LayerNorm((768,), eps=1e-12, elementwise_affine=True)\n",
              "            (dropout): Dropout(p=0.1, inplace=False)\n",
              "          )\n",
              "        )\n",
              "      )\n",
              "    )\n",
              "    (pooler): BertPooler(\n",
              "      (dense): Linear(in_features=768, out_features=768, bias=True)\n",
              "      (activation): Tanh()\n",
              "    )\n",
              "  )\n",
              "  (convs): ModuleList(\n",
              "    (0): Conv2d(1, 3, kernel_size=(1, 768), stride=(1, 1))\n",
              "    (1): Conv2d(1, 3, kernel_size=(2, 768), stride=(1, 1))\n",
              "  )\n",
              "  (dropout): Dropout(p=0.1, inplace=False)\n",
              "  (classifier): Linear(in_features=6, out_features=2, bias=True)\n",
              ")"
            ]
          },
          "metadata": {},
          "execution_count": 40
        }
      ]
    },
    {
      "cell_type": "code",
      "source": [
        "import torch\n",
        "torch.cuda.empty_cache()"
      ],
      "metadata": {
        "id": "ADFgEMOAPzRt"
      },
      "execution_count": null,
      "outputs": []
    },
    {
      "cell_type": "code",
      "source": [
        "import gc\n",
        "gc.collect()"
      ],
      "metadata": {
        "colab": {
          "base_uri": "https://localhost:8080/"
        },
        "id": "VGqiKqtaQGaw",
        "outputId": "bfd468d2-b7bc-4a09-a4e5-36d1ddab4e73"
      },
      "execution_count": null,
      "outputs": [
        {
          "output_type": "execute_result",
          "data": {
            "text/plain": [
              "133"
            ]
          },
          "metadata": {},
          "execution_count": 103
        }
      ]
    },
    {
      "cell_type": "code",
      "source": [
        "torch.cuda.memory_summary(device=None, abbreviated=False)"
      ],
      "metadata": {
        "colab": {
          "base_uri": "https://localhost:8080/",
          "height": 126
        },
        "id": "wdCRzN2rQ4qN",
        "outputId": "1a62f2f9-ae08-4ca7-ce3f-ea0ec5d759af"
      },
      "execution_count": null,
      "outputs": [
        {
          "output_type": "execute_result",
          "data": {
            "text/plain": [
              "'|===========================================================================|\\n|                  PyTorch CUDA memory summary, device ID 0                 |\\n|---------------------------------------------------------------------------|\\n|            CUDA OOMs: 4            |        cudaMalloc retries: 4         |\\n|===========================================================================|\\n|        Metric         | Cur Usage  | Peak Usage | Tot Alloc  | Tot Freed  |\\n|---------------------------------------------------------------------------|\\n| Allocated memory      |  13543 MiB |  13591 MiB |   5849 GiB |   5836 GiB |\\n|       from large pool |  13539 MiB |  13587 MiB |   5826 GiB |   5812 GiB |\\n|       from small pool |      4 MiB |      5 MiB |     23 GiB |     23 GiB |\\n|---------------------------------------------------------------------------|\\n| Active memory         |  13543 MiB |  13591 MiB |   5849 GiB |   5836 GiB |\\n|       from large pool |  13539 MiB |  13587 MiB |   5826 GiB |   5812 GiB |\\n|       from small pool |      4 MiB |      5 MiB |     23 GiB |     23 GiB |\\n|---------------------------------------------------------------------------|\\n| Requested memory      |  13538 MiB |  13586 MiB |   5849 GiB |   5835 GiB |\\n|       from large pool |  13534 MiB |  13582 MiB |   5825 GiB |   5812 GiB |\\n|       from small pool |      4 MiB |      5 MiB |     23 GiB |     23 GiB |\\n|---------------------------------------------------------------------------|\\n| GPU reserved memory   |  13658 MiB |  13658 MiB |  13658 MiB |      0 B   |\\n|       from large pool |  13652 MiB |  13652 MiB |  13652 MiB |      0 B   |\\n|       from small pool |      6 MiB |      6 MiB |      6 MiB |      0 B   |\\n|---------------------------------------------------------------------------|\\n| Non-releasable memory | 117362 KiB | 466159 KiB |   1782 GiB |   1781 GiB |\\n|       from large pool | 115565 KiB | 465408 KiB |   1758 GiB |   1758 GiB |\\n|       from small pool |   1797 KiB |   2261 KiB |     23 GiB |     23 GiB |\\n|---------------------------------------------------------------------------|\\n| Allocations           |    1090    |    1093    |  148199    |  147109    |\\n|       from large pool |     503    |     505    |   99882    |   99379    |\\n|       from small pool |     587    |     589    |   48317    |   47730    |\\n|---------------------------------------------------------------------------|\\n| Active allocs         |    1090    |    1093    |  148199    |  147109    |\\n|       from large pool |     503    |     505    |   99882    |   99379    |\\n|       from small pool |     587    |     589    |   48317    |   47730    |\\n|---------------------------------------------------------------------------|\\n| GPU reserved segments |     184    |     184    |     184    |       0    |\\n|       from large pool |     181    |     181    |     181    |       0    |\\n|       from small pool |       3    |       3    |       3    |       0    |\\n|---------------------------------------------------------------------------|\\n| Non-releasable allocs |      37    |      82    |   63865    |   63828    |\\n|       from large pool |      28    |      31    |   29226    |   29198    |\\n|       from small pool |       9    |      57    |   34639    |   34630    |\\n|---------------------------------------------------------------------------|\\n| Oversize allocations  |       0    |       0    |       0    |       0    |\\n|---------------------------------------------------------------------------|\\n| Oversize GPU segments |       0    |       0    |       0    |       0    |\\n|===========================================================================|\\n'"
            ],
            "application/vnd.google.colaboratory.intrinsic+json": {
              "type": "string"
            }
          },
          "metadata": {},
          "execution_count": 105
        }
      ]
    }
  ]
}